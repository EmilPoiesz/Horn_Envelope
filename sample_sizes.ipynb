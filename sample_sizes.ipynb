{
 "cells": [
  {
   "cell_type": "code",
   "execution_count": 1,
   "metadata": {},
   "outputs": [
    {
     "name": "stderr",
     "output_type": "stream",
     "text": [
      "c:\\Users\\sophi\\Miniconda3\\envs\\MT\\lib\\site-packages\\scipy\\__init__.py:146: UserWarning: A NumPy version >=1.16.5 and <1.23.0 is required for this version of SciPy (detected version 1.23.1\n",
      "  warnings.warn(f\"A NumPy version >={np_minversion} and <{np_maxversion}\"\n"
     ]
    }
   ],
   "source": [
    "from scipy.special import comb\n",
    "from sympy import *"
   ]
  },
  {
   "attachments": {},
   "cell_type": "markdown",
   "metadata": {},
   "source": [
    "### Definition in the original implementation"
   ]
  },
  {
   "cell_type": "code",
   "execution_count": 2,
   "metadata": {},
   "outputs": [],
   "source": [
    "def sample_size_old_implementation(n_variables,epsilon,delta):\n",
    "    return int((4/epsilon) * (log  (log(Pow(2,comb(n_variables,n_variables/2))))  /delta) + 1)"
   ]
  },
  {
   "attachments": {},
   "cell_type": "markdown",
   "metadata": {},
   "source": [
    "### Approximation from the Partial Interpretations paper"
   ]
  },
  {
   "cell_type": "code",
   "execution_count": 3,
   "metadata": {},
   "outputs": [],
   "source": [
    "def sample_size_approx(n_variables, epsilon, delta):\n",
    "    return int( (1/epsilon) * log( (Pow(2, Pow(n_variables, 2.1))) / delta , 2) )"
   ]
  },
  {
   "attachments": {},
   "cell_type": "markdown",
   "metadata": {},
   "source": [
    "### Original from the Partial Interpretations Paper"
   ]
  },
  {
   "cell_type": "code",
   "execution_count": 4,
   "metadata": {},
   "outputs": [],
   "source": [
    "def sample_size_hypothesis(n_variables, epsilon, delta):\n",
    "    return int((1/epsilon) * (log  (Pow(2,comb(n_variables,n_variables/2))  / delta, 2)))"
   ]
  },
  {
   "cell_type": "code",
   "execution_count": 5,
   "metadata": {},
   "outputs": [],
   "source": [
    "def sample_size_bool_space(n_variables, epsilon, delta):\n",
    "    return int((1/epsilon) * (log  (Pow(2,Pow(2, n_variables))  / delta, 2)))"
   ]
  },
  {
   "attachments": {},
   "cell_type": "markdown",
   "metadata": {},
   "source": [
    "### Definition from \"Extracting Horn Theories from Neural Networks with Queries and Counterexamples\""
   ]
  },
  {
   "cell_type": "code",
   "execution_count": 6,
   "metadata": {},
   "outputs": [],
   "source": [
    "def sample_size_with_i(epsilon, delta, i):\n",
    "    return int (1/epsilon * (log (1/delta) + i * log (2)))"
   ]
  },
  {
   "attachments": {},
   "cell_type": "markdown",
   "metadata": {},
   "source": [
    "# Get all Sample Sizes\n",
    "\n",
    "$\\epsilon$ = 0.3\n",
    "\n",
    "$\\delta$ = 0.1\n",
    "\n",
    "$|V|$ = 24"
   ]
  },
  {
   "cell_type": "code",
   "execution_count": 17,
   "metadata": {},
   "outputs": [],
   "source": [
    "n_variables = 24\n",
    "epsilon = 0.3\n",
    "delta = 0.1\n",
    "i = 200"
   ]
  },
  {
   "cell_type": "code",
   "execution_count": 18,
   "metadata": {},
   "outputs": [
    {
     "name": "stdout",
     "output_type": "stream",
     "text": [
      "Original Implementation:  1926\n",
      "Partial interpretations:  9013864\n",
      "Boolean Hypothesis Space:  55924064\n",
      "Approximation Partial Interpretations:  2649\n",
      "Extracting from NN:  469\n"
     ]
    }
   ],
   "source": [
    "print(\"Original Implementation: \", sample_size_old_implementation(n_variables=n_variables, epsilon=epsilon, delta=delta))\n",
    "print(\"Partial interpretations: \", sample_size_hypothesis(n_variables=n_variables, epsilon=epsilon, delta=delta))\n",
    "print(\"Boolean Hypothesis Space: \", sample_size_bool_space(n_variables=n_variables, epsilon=epsilon, delta=delta))\n",
    "print(\"Approximation Partial Interpretations: \", sample_size_approx(n_variables=n_variables, epsilon=epsilon, delta=delta))\n",
    "print(\"Extracting from NN: \", sample_size_with_i(epsilon=epsilon, delta=delta, i=i))"
   ]
  },
  {
   "cell_type": "code",
   "execution_count": 14,
   "metadata": {},
   "outputs": [
    {
     "name": "stdout",
     "output_type": "stream",
     "text": [
      "16777216\n"
     ]
    }
   ],
   "source": [
    "print(Pow(2, 24))"
   ]
  },
  {
   "cell_type": "code",
   "execution_count": null,
   "metadata": {},
   "outputs": [],
   "source": []
  }
 ],
 "metadata": {
  "kernelspec": {
   "display_name": "MT",
   "language": "python",
   "name": "python3"
  },
  "language_info": {
   "codemirror_mode": {
    "name": "ipython",
    "version": 3
   },
   "file_extension": ".py",
   "mimetype": "text/x-python",
   "name": "python",
   "nbconvert_exporter": "python",
   "pygments_lexer": "ipython3",
   "version": "3.10.4"
  },
  "orig_nbformat": 4
 },
 "nbformat": 4,
 "nbformat_minor": 2
}
