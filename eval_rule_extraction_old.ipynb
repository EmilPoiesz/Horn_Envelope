{
 "cells": [
  {
   "cell_type": "code",
   "execution_count": 1,
   "metadata": {},
   "outputs": [
    {
     "name": "stderr",
     "output_type": "stream",
     "text": [
      "c:\\Users\\sophi\\Miniconda3\\envs\\MT\\lib\\site-packages\\scipy\\__init__.py:146: UserWarning: A NumPy version >=1.16.5 and <1.23.0 is required for this version of SciPy (detected version 1.23.1\n",
      "  warnings.warn(f\"A NumPy version >={np_minversion} and <{np_maxversion}\"\n"
     ]
    }
   ],
   "source": [
    "import pickle\n",
    "from sympy import *\n",
    "from binarize_features import *\n",
    "import matplotlib.pyplot as plt\n",
    "import pandas as pd\n",
    "import seaborn as sns\n",
    "import json\n",
    "\n",
    "language_model = 'roberta-base'\n",
    "country_file = 'data/country_list_continents_new.csv'\n",
    "occ_file = 'data_new/occupations_subset.csv'\n",
    "binarizer = Binarizer(country_file, 5, occ_file)"
   ]
  },
  {
   "cell_type": "code",
   "execution_count": 2,
   "metadata": {},
   "outputs": [
    {
     "name": "stdout",
     "output_type": "stream",
     "text": [
      "{'nurse': 0, 'fashion_designer': 1, 'dancer': 2, 'footballer': 3, 'industrialist': 4, 'boxer': 5, 'singer': 6}\n"
     ]
    }
   ],
   "source": [
    "print(binarizer.occupation_lookup)"
   ]
  },
  {
   "cell_type": "code",
   "execution_count": 4,
   "metadata": {},
   "outputs": [],
   "source": [
    "language_model = 'bert-large-cased'\n",
    "number = 1"
   ]
  },
  {
   "cell_type": "markdown",
   "metadata": {},
   "source": [
    "### Loading\n",
    "\n",
    "Load the extracted rule set and the background used from the corresponding files."
   ]
  },
  {
   "cell_type": "code",
   "execution_count": 5,
   "metadata": {},
   "outputs": [],
   "source": [
    "with open('data_new/rule_extraction/' + language_model + '_rules_' + str(number) + '.txt', 'rb') as f:\n",
    "    h = pickle.load(f)\n",
    "with open('data/background.txt', 'rb') as f:\n",
    "    background = pickle.load(f)"
   ]
  },
  {
   "cell_type": "code",
   "execution_count": 6,
   "metadata": {},
   "outputs": [],
   "source": [
    "def get_all_rules(h, background):\n",
    "    all_rules = []\n",
    "    for rule in h:\n",
    "        if rule not in background:\n",
    "            expr = sstr(rule)\n",
    "            all_rules.append(expr)\n",
    "            #print(expr)\n",
    "    return all_rules\n",
    "all_rules = get_all_rules(h, background)"
   ]
  },
  {
   "cell_type": "code",
   "execution_count": 7,
   "metadata": {},
   "outputs": [],
   "source": [
    "def make_rule_lists(all_rules):\n",
    "    rules = []\n",
    "    negations = []\n",
    "    implications = []\n",
    "    for rule in all_rules:\n",
    "        if '~' in rule:\n",
    "            idx = []\n",
    "            if not '(' in rule:\n",
    "                idx.append(int(rule.replace('~v', '')))\n",
    "            else:\n",
    "                for s in rule.split(' '):\n",
    "                    if 'v' in s:\n",
    "                        s = s.replace('~(', '')\n",
    "                        s = s.replace(')', '')\n",
    "                        idx.append(int(s.replace('v', '')))\n",
    "            rules.append({'head' : '','body' : idx})\n",
    "            negations.append(idx)\n",
    "        else:\n",
    "            body, head = rule.split(', ')\n",
    "            body_idx = []\n",
    "            for s in body.split(' '):\n",
    "                if 'v' in s:\n",
    "                    s = s.replace('Implies(', '')\n",
    "                    body_idx.append(int(s.replace('v', '')))\n",
    "            head_idx = head.replace('v', '').replace(')','')\n",
    "            rules.append({'head' : head_idx, 'body' : body_idx})\n",
    "            implications.append({'head' : head_idx, 'body' : body_idx})\n",
    "    return (rules, negations, implications)\n",
    "(rules, negations, implications) = make_rule_lists(all_rules)"
   ]
  },
  {
   "cell_type": "code",
   "execution_count": 2,
   "metadata": {},
   "outputs": [
    {
     "name": "stdout",
     "output_type": "stream",
     "text": [
      "{0: 'before 1875', 1: 'between 1875 and 1925', 2: 'between 1925 and 1951', 3: 'between 1951 and 1970', 4: 'after 1970', 5: 'North America', 6: 'Africa', 7: 'Europe', 8: 'Asia', 9: 'South America', 10: 'Oceania', 11: 'Eurasia', 12: 'Americas', 13: 'Australia', 14: 'nurse', 15: 'fashion_designer', 16: 'dancer', 17: 'footballer', 18: 'industrialist', 19: 'boxer', 20: 'singer', 21: 'violinist', 22: 'female', 23: 'male'}\n"
     ]
    }
   ],
   "source": [
    "def get_lookup(binarizer):\n",
    "    total_lookup = []\n",
    "    for index in range(len(binarizer.age_containers) + 1):\n",
    "        if index == 0:\n",
    "            total_lookup.append(\"before \" + str(binarizer.age_containers[index]))\n",
    "        elif index == len(binarizer.age_containers):\n",
    "            total_lookup.append(\"after \" + str(binarizer.age_containers[index-1]))\n",
    "        else:\n",
    "            total_lookup.append(\"between \" + str(binarizer.age_containers[index-1]) + \" and \" + str(binarizer.age_containers[index]))\n",
    "    for v in binarizer.continent_lookup.keys():\n",
    "        total_lookup.append(v)\n",
    "    for v in binarizer.occupation_lookup.keys():\n",
    "        total_lookup.append(v)\n",
    "    total_lookup.append('female')\n",
    "    total_lookup.append('male')\n",
    "    #print({i : total_lookup[i] for i in range(len(total_lookup))})\n",
    "    return total_lookup\n",
    "total_lookup = get_lookup(binarizer)\n",
    "print({i : total_lookup[i] for i in range(len(total_lookup))})"
   ]
  },
  {
   "cell_type": "code",
   "execution_count": 9,
   "metadata": {},
   "outputs": [],
   "source": [
    "def negation_to_string(rule, total_lookup):\n",
    "    s = \"not (\"\n",
    "    for variable in rule:\n",
    "        s = s + total_lookup[variable] + \" & \"\n",
    "    s = s[:-2]\n",
    "    s = s + \")\"\n",
    "    return s\n",
    "\n",
    "def negation_to_latex(rule, total_lookup):\n",
    "    s = \"$\"\n",
    "    for variable in rule:\n",
    "        s = s + \"\\\\text{\" + total_lookup[variable] + \"} \\\\land \"\n",
    "    s = s[:-6]\n",
    "    s = s + \" \\\\rightarrow \\\\bot$\"\n",
    "    return s\n",
    "\n",
    "def get_negation_strings(negations, total_lookup):\n",
    "    negations_strings = []\n",
    "    for rule in negations:\n",
    "        negations_strings.append(negation_to_string(rule, total_lookup))\n",
    "    return negations_strings\n",
    "negations_strings = get_negation_strings(negations, total_lookup)"
   ]
  },
  {
   "cell_type": "markdown",
   "metadata": {},
   "source": [
    "Get only those implications that are not covered by the negations"
   ]
  },
  {
   "cell_type": "code",
   "execution_count": 10,
   "metadata": {},
   "outputs": [],
   "source": [
    "def implication_to_string(rule, total_lookup):\n",
    "    s = \"\"\n",
    "    for variable in rule['body']:\n",
    "        s = s + total_lookup[variable] + \" & \"\n",
    "    s = s[:-2]\n",
    "    s = s + \" ---> \" + total_lookup[int(rule['head'])]\n",
    "    return s\n",
    "\n",
    "def implication_to_latex(rule, total_lookup):\n",
    "    s = \"$\"\n",
    "    for variable in rule['body']:\n",
    "        s = s + \"\\\\text{\" + total_lookup[variable] + \"} \\\\land \"\n",
    "    s = s[:-6]\n",
    "    s = s + \" \\\\rightarrow \\\\text{\" + total_lookup[int(rule['head'])] + \"} $\"\n",
    "    return s\n",
    "\n",
    "def get_relevant_implications(implications, negations, total_lookup):\n",
    "    implication_strings = []\n",
    "    for rule in implications:\n",
    "        if rule['body'] not in negations:\n",
    "            implication_strings.append(implication_to_string(rule, total_lookup))\n",
    "    return implication_strings\n",
    "implication_strings = get_relevant_implications(implications, negations, total_lookup)"
   ]
  },
  {
   "cell_type": "code",
   "execution_count": 11,
   "metadata": {},
   "outputs": [],
   "source": [
    "string_rules = [*negations_strings, *implication_strings]"
   ]
  },
  {
   "cell_type": "markdown",
   "metadata": {},
   "source": [
    "## Averaging / Summarizing all experiments per model"
   ]
  },
  {
   "cell_type": "code",
   "execution_count": 12,
   "metadata": {},
   "outputs": [],
   "source": [
    "models = ['roberta-base', 'roberta-large', 'bert-base-cased', 'bert-large-cased']\n",
    "language_model = models[2]\n",
    "experiments = range(1,11)"
   ]
  },
  {
   "cell_type": "code",
   "execution_count": 13,
   "metadata": {},
   "outputs": [],
   "source": [
    "with open('data/background.txt', 'rb') as f:\n",
    "    background = pickle.load(f)"
   ]
  },
  {
   "cell_type": "code",
   "execution_count": 15,
   "metadata": {},
   "outputs": [
    {
     "name": "stdout",
     "output_type": "stream",
     "text": [
      "{0: 'before 1875', 1: 'between 1875 and 1925', 2: 'between 1925 and 1951', 3: 'between 1951 and 1970', 4: 'after 1970', 5: 'North America', 6: 'Africa', 7: 'Europe', 8: 'Asia', 9: 'South America', 10: 'Oceania', 11: 'Eurasia', 12: 'Americas', 13: 'Australia', 14: 'fashion_designer', 15: 'nurse', 16: 'dancer', 17: 'priest', 18: 'footballer', 19: 'banker', 20: 'singer', 21: 'lawyer', 22: 'mathematician', 23: 'diplomat', 24: 'female', 25: 'male'}\n"
     ]
    }
   ],
   "source": [
    "total_lookup = get_lookup(binarizer)"
   ]
  },
  {
   "cell_type": "markdown",
   "metadata": {},
   "source": [
    "### Import all extracted rules of all experiments\n",
    "\n",
    "Importing the rules of all experiments, sorting them into negations and implications and removing those implications that are redundant with the negations."
   ]
  },
  {
   "cell_type": "code",
   "execution_count": 60,
   "metadata": {},
   "outputs": [],
   "source": [
    "eq = 200"
   ]
  },
  {
   "cell_type": "code",
   "execution_count": 61,
   "metadata": {},
   "outputs": [],
   "source": [
    "all_negations = []\n",
    "all_implications = []\n",
    "for e in experiments:\n",
    "    with open('data_new/rule_extraction_new/results/' + language_model + '_rules_' + str(eq) + '_' + str(e) + '.txt', 'rb') as f:\n",
    "        h = pickle.load(f)\n",
    "    all_rules = get_all_rules(h, background)\n",
    "    (rules, negations, implications) = make_rule_lists(all_rules)\n",
    "    all_negations = [*all_negations, *negations]\n",
    "    all_implications = [*all_implications, *implications]"
   ]
  },
  {
   "cell_type": "code",
   "execution_count": 62,
   "metadata": {},
   "outputs": [],
   "source": [
    "def count_lists(l):\n",
    "    counts = []\n",
    "    sublists = []\n",
    "    for sublist in l:\n",
    "        if sublist not in sublists:\n",
    "            counts.append([sublist, l.count(sublist)])\n",
    "            sublists.append(sublist)\n",
    "    return counts"
   ]
  },
  {
   "cell_type": "code",
   "execution_count": 63,
   "metadata": {},
   "outputs": [],
   "source": [
    "relevant_implications = []\n",
    "for rule in all_implications:\n",
    "    if rule['body'] not in all_negations:\n",
    "        relevant_implications.append(rule)"
   ]
  },
  {
   "cell_type": "code",
   "execution_count": 64,
   "metadata": {},
   "outputs": [],
   "source": [
    "negations_count = count_lists(all_negations)\n",
    "implications_count = count_lists(relevant_implications)"
   ]
  },
  {
   "cell_type": "code",
   "execution_count": 65,
   "metadata": {},
   "outputs": [],
   "source": [
    "filename_string = 'data_new/rule_extraction_new/formatted/' + language_model + '_' + str(eq) +'.txt'\n",
    "filename_latex = 'data_new/rule_extraction_new/formatted/' + language_model + '_' + str(eq) +'_latex.txt'\n",
    "male = 0\n",
    "female = 0\n",
    "total = 0"
   ]
  },
  {
   "cell_type": "code",
   "execution_count": 66,
   "metadata": {},
   "outputs": [
    {
     "name": "stdout",
     "output_type": "stream",
     "text": [
      "64 18 46\n"
     ]
    }
   ],
   "source": [
    "for rule, count in sorted(negations_count, key=lambda rule: rule[1], reverse=True):\n",
    "    rule_string = negation_to_string(rule, total_lookup)\n",
    "    if count > 1:\n",
    "        total = total + 1\n",
    "        if \"female\" in rule_string:\n",
    "            female = female + 1\n",
    "        elif \"male\" in rule_string:\n",
    "            male = male + 1\n",
    "\n",
    "for rule, count in sorted(implications_count, key=lambda rule: rule[1], reverse=True):\n",
    "    rule_string = implication_to_string(rule, total_lookup)\n",
    "    if count > 1:\n",
    "        total = total + 1\n",
    "        if \"female\" in rule_string:\n",
    "            female = female + 1\n",
    "        elif \"male\" in rule_string:\n",
    "            male = male + 1\n",
    "\n",
    "print(total, male, female)"
   ]
  },
  {
   "cell_type": "code",
   "execution_count": 67,
   "metadata": {},
   "outputs": [],
   "source": [
    "values_100_over6 = [[1, 6],   #male, female\n",
    "          [4, 5],\n",
    "          [1, 6],\n",
    "          [3, 5]]\n",
    "\n",
    "values_100_over1 = [[7, 6],   #male, female\n",
    "          [5, 11],\n",
    "          [2, 11],\n",
    "          [4, 14]]\n",
    "\n",
    "\n",
    "values_50_over6 = [[1, 0],\n",
    "             [2, 0],\n",
    "             [0, 0],\n",
    "             [1, 0]]\n",
    "\n",
    "values_50_over1 = [[4, 12],\n",
    "             [4, 9],\n",
    "             [5, 9],\n",
    "             [5, 10]]"
   ]
  },
  {
   "cell_type": "code",
   "execution_count": 68,
   "metadata": {},
   "outputs": [
    {
     "name": "stdout",
     "output_type": "stream",
     "text": [
      "   amount  gender          model\n",
      "0       4    male   roberta-base\n",
      "1      12  female   roberta-base\n",
      "2       4    male  roberta-large\n",
      "3       9  female  roberta-large\n",
      "4       5    male      bert-base\n",
      "5       9  female      bert-base\n",
      "6       5    male     bert-large\n",
      "7      10  female     bert-large\n"
     ]
    },
    {
     "data": {
      "text/plain": [
       "[Text(0.5, 1.0, 'Gender related to by extracted rules')]"
      ]
     },
     "execution_count": 68,
     "metadata": {},
     "output_type": "execute_result"
    },
    {
     "data": {
      "image/png": "[encoded data removed]",
      "text/plain": [
       "<Figure size 432x288 with 1 Axes>"
      ]
     },
     "metadata": {
      "needs_background": "light"
     },
     "output_type": "display_data"
    }
   ],
   "source": [
    "data = pd.DataFrame({'amount' : np.array(values_50_over1).flatten(), \n",
    "                    'gender' : ['male', 'female', 'male', 'female', 'male', 'female', 'male', 'female'], \n",
    "                    'model' : ['roberta-base', 'roberta-base', 'roberta-large', 'roberta-large', 'bert-base', 'bert-base', 'bert-large', 'bert-large']})\n",
    "print(data)\n",
    "ax = sns.barplot(data = data, x='model', y='amount', hue='gender', palette='deep')\n",
    "ax.set(title=\"Gender related to by extracted rules\")\n",
    "#ax.set_yticks(range(2))"
   ]
  },
  {
   "cell_type": "code",
   "execution_count": 69,
   "metadata": {},
   "outputs": [],
   "source": [
    "for rule, count in sorted(negations_count, key=lambda rule: rule[1], reverse=True):\n",
    "    rule_string = negation_to_string(rule, total_lookup)\n",
    "    with open(filename_string, 'a') as f:\n",
    "        line = \"{:.3f}  :  {rule}\".format(count/10, rule=rule_string)\n",
    "        #print(line)\n",
    "        f.write(line + '\\n')\n",
    "    with open(filename_latex, 'a') as f:\n",
    "        line = \"{} & {rule} \\\\\\\\\".format(count, rule=negation_to_latex(rule, total_lookup))\n",
    "        f.write(line + '\\n')\n",
    "    \n",
    "    if count > 1:\n",
    "        total = total + 1\n",
    "        if \"female\" in rule_string:\n",
    "            female = female + 1\n",
    "        elif \"male\" in rule_string:\n",
    "            male = male + 1"
   ]
  },
  {
   "cell_type": "code",
   "execution_count": 70,
   "metadata": {},
   "outputs": [],
   "source": [
    "for rule, count in sorted(implications_count, key=lambda rule: rule[1], reverse=True):\n",
    "    rule_string = implication_to_string(rule, total_lookup)\n",
    "    with open(filename_string, 'a') as f:\n",
    "        line = \"{:.3f}  :  {rule}\".format(count/10, rule=rule_string)\n",
    "        #print(line)\n",
    "        f.write(line + '\\n')\n",
    "    with open(filename_latex, 'a') as f:\n",
    "        line = \"{} & {rule} \\\\\\\\\".format(count, rule=implication_to_latex(rule, total_lookup))\n",
    "        f.write(line + '\\n')\n",
    "\n",
    "    if count > 1:\n",
    "        total = total + 1\n",
    "        if \"female\" in rule_string:\n",
    "            female = female + 1\n",
    "        elif \"male\" in rule_string:\n",
    "            male = male + 1"
   ]
  },
  {
   "attachments": {},
   "cell_type": "markdown",
   "metadata": {},
   "source": [
    "## One-cell"
   ]
  },
  {
   "cell_type": "code",
   "execution_count": 16,
   "metadata": {},
   "outputs": [],
   "source": [
    "def count_lists(l):\n",
    "    counts = []\n",
    "    sublists = []\n",
    "    for sublist in l:\n",
    "        if sublist not in sublists:\n",
    "            counts.append([sublist, l.count(sublist)])\n",
    "            sublists.append(sublist)\n",
    "    return counts"
   ]
  },
  {
   "cell_type": "code",
   "execution_count": 18,
   "metadata": {},
   "outputs": [
    {
     "name": "stdout",
     "output_type": "stream",
     "text": [
      "{0: 'before 1875', 1: 'between 1875 and 1925', 2: 'between 1925 and 1951', 3: 'between 1951 and 1970', 4: 'after 1970', 5: 'North America', 6: 'Africa', 7: 'Europe', 8: 'Asia', 9: 'South America', 10: 'Oceania', 11: 'Eurasia', 12: 'Americas', 13: 'Australia', 14: 'fashion_designer', 15: 'nurse', 16: 'dancer', 17: 'priest', 18: 'footballer', 19: 'banker', 20: 'singer', 21: 'lawyer', 22: 'mathematician', 23: 'diplomat', 24: 'female', 25: 'male'}\n"
     ]
    }
   ],
   "source": [
    "#one-cell\n",
    "models = ['roberta-base', 'roberta-large', 'bert-base-cased', 'bert-large-cased']\n",
    "eqs = [50, 100, 200]\n",
    "experiments = range(1,11)\n",
    "with open('data/background.txt', 'rb') as f:\n",
    "    background = pickle.load(f)\n",
    "total_lookup = get_lookup(binarizer)\n",
    "\n",
    "for lm in models:\n",
    "    for eq in eqs:\n",
    "        all_negations = []\n",
    "        all_implications = []\n",
    "        for e in experiments:\n",
    "            with open('data_new/rule_extraction_new/results/' + lm + '_rules_' + str(eq) + '_' + str(e) + '.txt', 'rb') as f:\n",
    "                h = pickle.load(f)\n",
    "            all_rules = get_all_rules(h, background)\n",
    "            (rules, negations, implications) = make_rule_lists(all_rules)\n",
    "            all_negations = [*all_negations, *negations]\n",
    "            all_implications = [*all_implications, *implications]\n",
    "\n",
    "        relevant_implications = []\n",
    "        for rule in all_implications:\n",
    "            if rule['body'] not in all_negations:\n",
    "                relevant_implications.append(rule)\n",
    "\n",
    "        negations_count = count_lists(all_negations)\n",
    "        implications_count = count_lists(relevant_implications)\n",
    "\n",
    "        filename_string = 'data_new/rule_extraction_new/formatted/' + lm + '_' + str(eq) +'.txt'\n",
    "        filename_latex = 'data_new/rule_extraction_new/formatted/' + lm + '_' + str(eq) +'_latex.txt'\n",
    "\n",
    "        for rule, count in sorted(negations_count, key=lambda rule: rule[1], reverse=True):\n",
    "            rule_string = negation_to_string(rule, total_lookup)\n",
    "            with open(filename_string, 'a') as f:\n",
    "                line = \"{:.3f}  :  {rule}\".format(count/10, rule=rule_string)\n",
    "                #print(line)\n",
    "                f.write(line + '\\n')\n",
    "            with open(filename_latex, 'a') as f:\n",
    "                line = \"{} & {rule} \\\\\\\\\".format(count, rule=negation_to_latex(rule, total_lookup))\n",
    "                f.write(line + '\\n')\n",
    "\n",
    "        for rule, count in sorted(implications_count, key=lambda rule: rule[1], reverse=True):\n",
    "            rule_string = implication_to_string(rule, total_lookup)\n",
    "            with open(filename_string, 'a') as f:\n",
    "                line = \"{:.3f}  :  {rule}\".format(count/10, rule=rule_string)\n",
    "                #print(line)\n",
    "                f.write(line + '\\n')\n",
    "            with open(filename_latex, 'a') as f:\n",
    "                line = \"{} & {rule} \\\\\\\\\".format(count, rule=implication_to_latex(rule, total_lookup))\n",
    "                f.write(line + '\\n')"
   ]
  },
  {
   "attachments": {},
   "cell_type": "markdown",
   "metadata": {},
   "source": [
    "## Evaluate Runtimes"
   ]
  },
  {
   "cell_type": "code",
   "execution_count": 19,
   "metadata": {},
   "outputs": [],
   "source": [
    "models = ['roberta-base', 'roberta-large', 'bert-base-cased', 'bert-large-cased']\n",
    "experiments = range(1,11)\n",
    "eq = [50, 100, 200]\n",
    "path = 'data_new/rule_extraction_new/results/{lm}_runtime_{eq}_{experiment}.txt'"
   ]
  },
  {
   "cell_type": "code",
   "execution_count": 20,
   "metadata": {},
   "outputs": [
    {
     "name": "stdout",
     "output_type": "stream",
     "text": [
      "roberta-base - 50 EQs:\n",
      "\truntime average: 4185.85 sec = 69.76 min = 1.16 h\n",
      "\truntime per iteration average: 83.72 sec\n",
      "roberta-large - 50 EQs:\n",
      "\truntime average: 7753.08 sec = 129.22 min = 2.15 h\n",
      "\truntime per iteration average: 155.06 sec\n",
      "bert-base-cased - 50 EQs:\n",
      "\truntime average: 4304.17 sec = 71.74 min = 1.20 h\n",
      "\truntime per iteration average: 86.08 sec\n",
      "bert-large-cased - 50 EQs:\n",
      "\truntime average: 7800.79 sec = 130.01 min = 2.17 h\n",
      "\truntime per iteration average: 156.02 sec\n",
      "roberta-base - 100 EQs:\n",
      "\truntime average: 11089.24 sec = 184.82 min = 3.08 h\n",
      "\truntime per iteration average: 110.89 sec\n",
      "roberta-large - 100 EQs:\n",
      "\truntime average: 18523.93 sec = 308.73 min = 5.15 h\n",
      "\truntime per iteration average: 185.24 sec\n",
      "bert-base-cased - 100 EQs:\n",
      "\truntime average: 11624.35 sec = 193.74 min = 3.23 h\n",
      "\truntime per iteration average: 116.24 sec\n",
      "bert-large-cased - 100 EQs:\n",
      "\truntime average: 18237.59 sec = 303.96 min = 5.07 h\n",
      "\truntime per iteration average: 182.38 sec\n",
      "roberta-base - 200 EQs:\n",
      "\truntime average: 46318.23 sec = 771.97 min = 12.87 h\n",
      "\truntime per iteration average: 231.59 sec\n",
      "roberta-large - 200 EQs:\n",
      "\truntime average: 56595.49 sec = 943.26 min = 15.72 h\n",
      "\truntime per iteration average: 282.98 sec\n",
      "bert-base-cased - 200 EQs:\n",
      "\truntime average: 43352.71 sec = 722.55 min = 12.04 h\n",
      "\truntime per iteration average: 216.76 sec\n",
      "bert-large-cased - 200 EQs:\n",
      "\truntime average: 53948.06 sec = 899.13 min = 14.99 h\n",
      "\truntime per iteration average: 269.74 sec\n"
     ]
    }
   ],
   "source": [
    "for e in eq:\n",
    "    for lm in models:\n",
    "        total_runtime = 0\n",
    "        average_iteration_runtime = 0\n",
    "        for exp in experiments:\n",
    "            with open(path.format(lm=lm, eq=e, experiment=exp)) as f:\n",
    "                data = f.read()\n",
    "            data_dict = json.loads(data)\n",
    "            total_runtime = total_runtime + float(data_dict['data']['runtime'])\n",
    "            average_iteration_runtime = average_iteration_runtime + float(data_dict['data']['runtime per iteration'])\n",
    "        total_runtime = total_runtime / len(experiments)\n",
    "        average_iteration_runtime = average_iteration_runtime / len(experiments)\n",
    "        print(\"{lm} - {e} EQs:\".format(lm=lm, e=e))\n",
    "        print(\"\\truntime average: {r:.2f} sec = {r1:.2f} min = {r2:.2f} h\".format(r=total_runtime, r1 = total_runtime/60, r2=total_runtime/60/60))\n",
    "        print(\"\\truntime per iteration average: {r:.2f} sec\".format(r=average_iteration_runtime))\n",
    "            "
   ]
  },
  {
   "attachments": {},
   "cell_type": "markdown",
   "metadata": {},
   "source": [
    "## Evaluate Negation Rules"
   ]
  },
  {
   "cell_type": "code",
   "execution_count": 29,
   "metadata": {},
   "outputs": [
    {
     "name": "stdout",
     "output_type": "stream",
     "text": [
      "         occupation      category\n",
      "0  fashion_designer      creative\n",
      "1             nurse          care\n",
      "2            dancer      creative\n",
      "3            priest     religious\n",
      "4        footballer        sports\n",
      "5            banker  needs_degree\n",
      "6            singer      creative\n",
      "7            lawyer  needs_degree\n",
      "8     mathematician  needs_degree\n",
      "9          diplomat  needs_degree\n"
     ]
    }
   ],
   "source": [
    "category_data = pd.DataFrame({\n",
    "                    'occupation' : ['fashion_designer', 'nurse', 'dancer', 'priest', 'footballer', 'banker', 'singer', 'lawyer', 'mathematician', 'diplomat'], \n",
    "                    'category' : ['creative', 'care', 'creative', 'religious', 'sports', 'needs_degree', 'creative', 'needs_degree', 'needs_degree', 'needs_degree']})\n",
    "print(category_data)\n",
    "categories = {'fashion_designer' : 'creative', 'nurse' : 'care', 'dancer' : 'creative', 'priest' : 'religious', 'footballer' : 'sports', 'banker' : 'needs_degree', 'singer' : 'creative', 'lawyer' : 'needs_degree', 'mathematician' : 'needs_degree', 'diplomat' : 'needs_degree'}"
   ]
  },
  {
   "cell_type": "code",
   "execution_count": null,
   "metadata": {},
   "outputs": [],
   "source": [
    "needs_degree = ['lawyer', 'diplomant', 'mathematician', 'banker']\n",
    "sports = ['footballer']\n",
    "creative = ['dancer', 'singer', 'fashion_designer']\n",
    "religious = ['priest']\n",
    "care = ['nurse']"
   ]
  },
  {
   "cell_type": "code",
   "execution_count": 55,
   "metadata": {},
   "outputs": [
    {
     "data": {
      "image/png": "[encoded data removed]",
      "text/plain": [
       "<Figure size 432x288 with 1 Axes>"
      ]
     },
     "metadata": {
      "needs_background": "light"
     },
     "output_type": "display_data"
    },
    {
     "data": {
      "image/png": "[encoded data removed]",
      "text/plain": [
       "<Figure size 432x288 with 1 Axes>"
      ]
     },
     "metadata": {
      "needs_background": "light"
     },
     "output_type": "display_data"
    },
    {
     "data": {
      "image/png": "[encoded data removed]",
      "text/plain": [
       "<Figure size 432x288 with 1 Axes>"
      ]
     },
     "metadata": {
      "needs_background": "light"
     },
     "output_type": "display_data"
    },
    {
     "data": {
      "image/png": "[encoded data removed]",
      "text/plain": [
       "<Figure size 432x288 with 1 Axes>"
      ]
     },
     "metadata": {
      "needs_background": "light"
     },
     "output_type": "display_data"
    }
   ],
   "source": [
    "#one-cell\n",
    "models = ['roberta-base', 'roberta-large', 'bert-base-cased', 'bert-large-cased']\n",
    "eqs = [200]\n",
    "experiments = range(1,11)\n",
    "with open('data/background.txt', 'rb') as f:\n",
    "    background = pickle.load(f)\n",
    "total_lookup = get_lookup(binarizer)\n",
    "eq = 200\n",
    "\n",
    "data_arrays = {}\n",
    "total_array = []\n",
    "for lm in models:\n",
    "    all_negations = []\n",
    "    all_implications = []\n",
    "    for e in experiments:\n",
    "        with open('data_new/rule_extraction_new/results/' + lm + '_rules_' + str(eq) + '_' + str(e) + '.txt', 'rb') as f:\n",
    "            h = pickle.load(f)\n",
    "        all_rules = get_all_rules(h, background)\n",
    "        (rules, negations, implications) = make_rule_lists(all_rules)\n",
    "        all_negations = [*all_negations, *negations]\n",
    "\n",
    "    negations_count = count_lists(all_negations)\n",
    "    data = []\n",
    "    for rule, count in sorted(negations_count, key=lambda rule: rule[1], reverse=True):\n",
    "        rule_string = negation_to_string(rule, total_lookup)\n",
    "        if count > 6 and len(rule) == 2:\n",
    "            total_array.append([lm, total_lookup[rule[1]], categories[total_lookup[rule[0]]]])\n",
    "            data.append([total_lookup[rule[1]], categories[total_lookup[rule[0]]]])\n",
    "    data_arrays[lm] = data\n",
    "\n",
    "for lm in models:\n",
    "    frame = pd.DataFrame(data_arrays[lm], columns=['gender', 'type'])\n",
    "    ax = sns.countplot(data = frame, x='type', hue='gender', palette={'female': 'darkorange', 'male': 'steelblue'})\n",
    "    ax.set(title=lm)\n",
    "    plt.show()\n"
   ]
  },
  {
   "cell_type": "code",
   "execution_count": null,
   "metadata": {},
   "outputs": [],
   "source": []
  }
 ],
 "metadata": {
  "kernelspec": {
   "display_name": "Python 3.10.4 ('MT')",
   "language": "python",
   "name": "python3"
  },
  "language_info": {
   "codemirror_mode": {
    "name": "ipython",
    "version": 3
   },
   "file_extension": ".py",
   "mimetype": "text/x-python",
   "name": "python",
   "nbconvert_exporter": "python",
   "pygments_lexer": "ipython3",
   "version": "3.10.4"
  },
  "orig_nbformat": 4,
  "vscode": {
   "interpreter": {
    "hash": "bc686a98443b4652797a5cea7523f1dba0859ec3ace4f9579863ae6780390e66"
   }
  }
 },
 "nbformat": 4,
 "nbformat_minor": 2
}
