{
 "cells": [
  {
   "cell_type": "code",
   "execution_count": 24,
   "metadata": {},
   "outputs": [],
   "source": [
    "import json\n",
    "from sympy import *\n",
    "import pandas as pd"
   ]
  },
  {
   "cell_type": "code",
   "execution_count": 2,
   "metadata": {},
   "outputs": [
    {
     "name": "stdout",
     "output_type": "stream",
     "text": [
      "{'head': {'model': 'roberta-base', 'experiment': 1}, 'data': {'runtime': 84940.09611879603, 'average_sample': 2707, 'samples': [4, 1, 4, 3, 2, 1, 1, 2, 2, 1, 1, 1, 1, 3, 1, 2, 2, 4, 1, 6, 1, 1, 1, 2, 6, 2, 8, 4, 1, 2, 3, 5, 5, 11, 3, 5, 2, 3, 2, 1, 1, 1, 1, 2, 1, 1, 1, 5, 7, 1, 1, 11, 15, 2, 5, 2, 4, 4, 7, 6, 1, 4, 6, 5, 1, 5, 8, 2, 13, 28, 19, 3, 1, 6, 8, 5, 50, 3, 6, 2, 4, 4, 3, 1, 1, 2, 14, 9, 6, 2, 3, 1, 1, 1, 5, 4, 12, 3, 7, 1, 12, 7, 4, 4, 29, 3, 8, 4, 9, 2, 20, 8, 4, 5, 4, 4, 5, 11, 3, 1, 5, 9, 19, 16, 1, 7, 1, 9, 22, 5, 1, 41, 1, 10, 7, 2, 3, 6, 7, 1, 2, 11, 1, 8, 4, 21, 20, 7, 6, 11, 2, 15, 21, 7, 35, 25, 20, 23, 12, 5, 12, 9, 43, 15, 8, 17, 12, 9, 21, 9, 4, 8, 12, 7, 10, 3, 18, 3, 3, 2, 9, 11, 4, 2, 24, 37, 2, 4, 3, 49, 14, 7, 11, 42, 5, 1, 28, 9, 6, 2, 4, 1, 5, 5, 2, 3, 6, 1, 11, 7, 4, 6, 5, 6, 3, 2, 11, 20, 52, 7, 26, 17, 2, 12, 5, 8, 16, 5, 32, 1, 8, 5, 6, 7, 1, 20, 3, 3, 4, 13, 15, 9, 8, 1, 19, 5, 49, 2, 28, 15, 6, 16, 4, 2, 11, 5, 2, 27, 4, 2, 8, 36, 4, 7, 14, 55, 21, 21, 8, 6, 1, 25, 4, 5, 4, 12, 11, 1, 28, 11, 2, 19, 11, 9, 8, 31, 19, 9, 34, 2, 2, 4, 7, 7, 86, 6, 17, 16, 28, 3], 'terminated': False}}\n"
     ]
    }
   ],
   "source": [
    "with open('data_new/testrun_300_metadata.txt') as f:\n",
    "    data = f.read()\n",
    "metadata = json.loads(data)\n",
    "print(metadata)"
   ]
  },
  {
   "cell_type": "code",
   "execution_count": 8,
   "metadata": {},
   "outputs": [
    {
     "name": "stdout",
     "output_type": "stream",
     "text": [
      "9.023333333333333\n",
      "86\n"
     ]
    }
   ],
   "source": [
    "samples = metadata['data']['samples']\n",
    "average_sample = metadata['data']['average_sample']\n",
    "print(average_sample/len(samples))\n",
    "print(max(samples))"
   ]
  },
  {
   "cell_type": "code",
   "execution_count": 17,
   "metadata": {},
   "outputs": [
    {
     "name": "stdout",
     "output_type": "stream",
     "text": [
      "5411\n",
      "5416\n",
      "10833\n"
     ]
    }
   ],
   "source": [
    "def get_eq_sample_size(epsilon=0.2, delta=0.2):\n",
    "    H = 1080 # number of possible examples\n",
    "    return int ( (1/epsilon) * log( (Pow(2, H) / delta), 2))\n",
    "print(get_eq_sample_size(epsilon=0.2, delta=0.2))\n",
    "print(get_eq_sample_size(epsilon=0.2, delta=0.1))\n",
    "print(get_eq_sample_size(epsilon=0.1, delta=0.1))"
   ]
  },
  {
   "cell_type": "code",
   "execution_count": 27,
   "metadata": {},
   "outputs": [
    {
     "name": "stdout",
     "output_type": "stream",
     "text": [
      "{'head': {'model': 'bert-base-cased', 'experiment': 1}, 'data': {'runtime': 4227.938513770001, 'average_sample': [{'sample': 4, 'runtime': 1.2505176379345357}, {'sample': 1, 'runtime': 0.5431428300216794}, {'sample': 2, 'runtime': 3.2694133199984208}, {'sample': 2, 'runtime': 0.5373480309499428}, {'sample': 4, 'runtime': 0.5870170369744301}, {'sample': 4, 'runtime': 1.1364957279292867}, {'sample': 2, 'runtime': 4.612365375040099}, {'sample': 1, 'runtime': 4.563535661902279}, {'sample': 2, 'runtime': 4.720049301045947}, {'sample': 1, 'runtime': 5.159064683015458}, {'sample': 3, 'runtime': 5.741901353932917}, {'sample': 1, 'runtime': 1.5371538610197604}, {'sample': 1, 'runtime': 1.0175556399626657}, {'sample': 1, 'runtime': 5.783337036031298}, {'sample': 1, 'runtime': 6.069617061992176}, {'sample': 3, 'runtime': 7.451270280056633}, {'sample': 1, 'runtime': 8.046156498021446}, {'sample': 1, 'runtime': 9.030382791068405}, {'sample': 3, 'runtime': 9.575832057977095}, {'sample': 2, 'runtime': 9.242710600956343}, {'sample': 1, 'runtime': 10.207729717018083}, {'sample': 1, 'runtime': 11.7535145659931}, {'sample': 4, 'runtime': 12.644239684916101}, {'sample': 1, 'runtime': 11.763883547973819}, {'sample': 5, 'runtime': 14.047537103993818}, {'sample': 1, 'runtime': 14.07260421209503}, {'sample': 5, 'runtime': 15.603158376994543}, {'sample': 2, 'runtime': 14.282007316011004}, {'sample': 4, 'runtime': 9.956377358990721}, {'sample': 3, 'runtime': 14.175519509008154}, {'sample': 5, 'runtime': 134.85796600498725}, {'sample': 1, 'runtime': 59.541976002044976}, {'sample': 7, 'runtime': 8.122323399991728}, {'sample': 7, 'runtime': 7.742166176089086}, {'sample': 4, 'runtime': 28.58748801704496}, {'sample': 3, 'runtime': 29.8324943468906}, {'sample': 1, 'runtime': 32.66478788398672}, {'sample': 1, 'runtime': 31.69055188400671}, {'sample': 8, 'runtime': 6.644658167962916}, {'sample': 4, 'runtime': 32.95126538199838}, {'sample': 1, 'runtime': 32.087598174926825}, {'sample': 5, 'runtime': 5.8569220340577886}, {'sample': 2, 'runtime': 35.11647152993828}, {'sample': 6, 'runtime': 7.130374433007091}, {'sample': 2, 'runtime': 37.13895875297021}, {'sample': 13, 'runtime': 43.408948783995584}, {'sample': 6, 'runtime': 41.17291826300789}, {'sample': 7, 'runtime': 43.41329307598062}, {'sample': 4, 'runtime': 44.23318407998886}, {'sample': 1, 'runtime': 119.1435692870291}, {'sample': 3, 'runtime': 51.659570754971355}, {'sample': 1, 'runtime': 118.65036970400251}, {'sample': 1, 'runtime': 52.54289843107108}, {'sample': 2, 'runtime': 15.396463982062414}, {'sample': 4, 'runtime': 54.91721751599107}, {'sample': 3, 'runtime': 12.419513632077724}, {'sample': 4, 'runtime': 58.18433184095193}, {'sample': 1, 'runtime': 55.84957464004401}, {'sample': 15, 'runtime': 61.3690170670161}, {'sample': 7, 'runtime': 61.73898739099968}, {'sample': 1, 'runtime': 63.79342357395217}, {'sample': 13, 'runtime': 68.4508038799977}, {'sample': 3, 'runtime': 69.62065900594462}, {'sample': 1, 'runtime': 72.97280756104738}, {'sample': 4, 'runtime': 12.057505151024088}, {'sample': 5, 'runtime': 75.66144457797054}, {'sample': 3, 'runtime': 75.2428706579376}, {'sample': 6, 'runtime': 164.7071756600635}, {'sample': 7, 'runtime': 12.003478950005956}, {'sample': 7, 'runtime': 151.06568556197453}, {'sample': 4, 'runtime': 140.21163951500785}, {'sample': 4, 'runtime': 89.09485400398262}, {'sample': 12, 'runtime': 132.3700629459927}, {'sample': 31, 'runtime': 16.923825392033905}, {'sample': 3, 'runtime': 121.72424698597752}, {'sample': 8, 'runtime': 9.263620635960251}, {'sample': 1, 'runtime': 92.89193012809847}, {'sample': 7, 'runtime': 8.269256205065176}, {'sample': 2, 'runtime': 6.456734245992266}, {'sample': 21, 'runtime': 11.761098351911642}, {'sample': 5, 'runtime': 86.99019078398123}, {'sample': 18, 'runtime': 94.8313007070683}, {'sample': 15, 'runtime': 10.95662397891283}, {'sample': 12, 'runtime': 99.39730181603227}, {'sample': 6, 'runtime': 104.36232215701602}, {'sample': 5, 'runtime': 15.7080967950169}, {'sample': 2, 'runtime': 96.7026762550231}, {'sample': 5, 'runtime': 8.37049829796888}, {'sample': 5, 'runtime': 100.61409684398677}, {'sample': 2, 'runtime': 104.43093611707445}, {'sample': 9, 'runtime': 106.76999094104394}, {'sample': 6, 'runtime': 105.22516078094486}, {'sample': 19, 'runtime': 12.718946772045456}, {'sample': 3, 'runtime': 102.98026672401465}, {'sample': 5, 'runtime': 7.551237836945802}, {'sample': 7, 'runtime': 7.784180951071903}, {'sample': 4, 'runtime': 101.83206494594924}, {'sample': 8, 'runtime': 108.6496806339128}, {'sample': 1, 'runtime': 6.94448246108368}, {'sample': 5, 'runtime': 8.127819125074893}], 'terminated': False}}\n"
     ]
    }
   ],
   "source": [
    "with open('data_new/rule_extraction_final/bert-base-cased_metadata_100_1.json') as f:\n",
    "    data = f.read()\n",
    "metadata = json.loads(data)\n",
    "sample_list = metadata['data']['average_sample']\n",
    "print(metadata)"
   ]
  },
  {
   "cell_type": "code",
   "execution_count": 23,
   "metadata": {},
   "outputs": [],
   "source": [
    "runtimedata = [sample_list[i]['runtime'] for i in range(len(sample_list))]\n",
    "sampledata = [sample_list[i]['sample'] for i in range(len(sample_list))]"
   ]
  },
  {
   "cell_type": "code",
   "execution_count": 26,
   "metadata": {},
   "outputs": [
    {
     "name": "stdout",
     "output_type": "stream",
     "text": [
      "       runtime  samplesize\n",
      "0     1.250518           4\n",
      "1     0.543143           1\n",
      "2     3.269413           2\n",
      "3     0.537348           2\n",
      "4     0.587017           4\n",
      "5     1.136496           4\n",
      "6     4.612365           2\n",
      "7     4.563536           1\n",
      "8     4.720049           2\n",
      "9     5.159065           1\n",
      "10    5.741901           3\n",
      "11    1.537154           1\n",
      "12    1.017556           1\n",
      "13    5.783337           1\n",
      "14    6.069617           1\n",
      "15    7.451270           3\n",
      "16    8.046156           1\n",
      "17    9.030383           1\n",
      "18    9.575832           3\n",
      "19    9.242711           2\n",
      "20   10.207730           1\n",
      "21   11.753515           1\n",
      "22   12.644240           4\n",
      "23   11.763884           1\n",
      "24   14.047537           5\n",
      "25   14.072604           1\n",
      "26   15.603158           5\n",
      "27   14.282007           2\n",
      "28    9.956377           4\n",
      "29   14.175520           3\n",
      "30  134.857966           5\n",
      "31   59.541976           1\n",
      "32    8.122323           7\n",
      "33    7.742166           7\n",
      "34   28.587488           4\n",
      "35   29.832494           3\n",
      "36   32.664788           1\n",
      "37   31.690552           1\n",
      "38    6.644658           8\n",
      "39   32.951265           4\n",
      "40   32.087598           1\n",
      "41    5.856922           5\n",
      "42   35.116472           2\n",
      "43    7.130374           6\n",
      "44   37.138959           2\n",
      "45   43.408949          13\n",
      "46   41.172918           6\n",
      "47   43.413293           7\n",
      "48   44.233184           4\n",
      "49  119.143569           1\n",
      "50   51.659571           3\n",
      "51  118.650370           1\n",
      "52   52.542898           1\n",
      "53   15.396464           2\n",
      "54   54.917218           4\n",
      "55   12.419514           3\n",
      "56   58.184332           4\n",
      "57   55.849575           1\n",
      "58   61.369017          15\n",
      "59   61.738987           7\n",
      "60   63.793424           1\n",
      "61   68.450804          13\n",
      "62   69.620659           3\n",
      "63   72.972808           1\n",
      "64   12.057505           4\n",
      "65   75.661445           5\n",
      "66   75.242871           3\n",
      "67  164.707176           6\n",
      "68   12.003479           7\n",
      "69  151.065686           7\n",
      "70  140.211640           4\n",
      "71   89.094854           4\n",
      "72  132.370063          12\n",
      "73   16.923825          31\n",
      "74  121.724247           3\n",
      "75    9.263621           8\n",
      "76   92.891930           1\n",
      "77    8.269256           7\n",
      "78    6.456734           2\n",
      "79   11.761098          21\n",
      "80   86.990191           5\n",
      "81   94.831301          18\n",
      "82   10.956624          15\n",
      "83   99.397302          12\n",
      "84  104.362322           6\n",
      "85   15.708097           5\n",
      "86   96.702676           2\n",
      "87    8.370498           5\n",
      "88  100.614097           5\n",
      "89  104.430936           2\n",
      "90  106.769991           9\n",
      "91  105.225161           6\n",
      "92   12.718947          19\n",
      "93  102.980267           3\n",
      "94    7.551238           5\n",
      "95    7.784181           7\n",
      "96  101.832065           4\n",
      "97  108.649681           8\n",
      "98    6.944482           1\n",
      "99    8.127819           5\n"
     ]
    }
   ],
   "source": [
    "df = pd.DataFrame({'runtime' : runtimedata, 'samplesize' : sampledata})\n",
    "print(df.to_string())"
   ]
  },
  {
   "cell_type": "code",
   "execution_count": null,
   "metadata": {},
   "outputs": [],
   "source": []
  }
 ],
 "metadata": {
  "kernelspec": {
   "display_name": "MT",
   "language": "python",
   "name": "python3"
  },
  "language_info": {
   "codemirror_mode": {
    "name": "ipython",
    "version": 3
   },
   "file_extension": ".py",
   "mimetype": "text/x-python",
   "name": "python",
   "nbconvert_exporter": "python",
   "pygments_lexer": "ipython3",
   "version": "3.10.4"
  },
  "orig_nbformat": 4
 },
 "nbformat": 4,
 "nbformat_minor": 2
}
