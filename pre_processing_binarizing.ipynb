{
 "cells": [
  {
   "cell_type": "code",
   "execution_count": 2,
   "metadata": {},
   "outputs": [],
   "source": [
    "from helper_functions import *\n",
    "import pandas as pd\n",
    "import numpy as np"
   ]
  },
  {
   "cell_type": "markdown",
   "metadata": {},
   "source": [
    "### Make a list of all countries in the dataset"
   ]
  },
  {
   "cell_type": "code",
   "execution_count": 2,
   "metadata": {},
   "outputs": [
    {
     "ename": "KeyboardInterrupt",
     "evalue": "",
     "output_type": "error",
     "traceback": [
      "\u001b[1;31m---------------------------------------------------------------------------\u001b[0m",
      "\u001b[1;31mKeyboardInterrupt\u001b[0m                         Traceback (most recent call last)",
      "\u001b[1;32mc:\\Users\\sophi\\Desktop\\MT_UiB\\pre_processing_binarizing.ipynb Cell 3\u001b[0m in \u001b[0;36m<cell line: 4>\u001b[1;34m()\u001b[0m\n\u001b[0;32m      <a href='vscode-notebook-cell:/c%3A/Users/sophi/Desktop/MT_UiB/pre_processing_binarizing.ipynb#W2sZmlsZQ%3D%3D?line=7'>8</a>\u001b[0m \u001b[39mfor\u001b[39;00m index, row \u001b[39min\u001b[39;00m df\u001b[39m.\u001b[39miterrows():\n\u001b[0;32m      <a href='vscode-notebook-cell:/c%3A/Users/sophi/Desktop/MT_UiB/pre_processing_binarizing.ipynb#W2sZmlsZQ%3D%3D?line=8'>9</a>\u001b[0m     nationality \u001b[39m=\u001b[39m row[\u001b[39m'\u001b[39m\u001b[39mnationality\u001b[39m\u001b[39m'\u001b[39m]\n\u001b[1;32m---> <a href='vscode-notebook-cell:/c%3A/Users/sophi/Desktop/MT_UiB/pre_processing_binarizing.ipynb#W2sZmlsZQ%3D%3D?line=9'>10</a>\u001b[0m     nid \u001b[39m=\u001b[39m row[\u001b[39m'\u001b[39;49m\u001b[39mnid\u001b[39;49m\u001b[39m'\u001b[39;49m]\n\u001b[0;32m     <a href='vscode-notebook-cell:/c%3A/Users/sophi/Desktop/MT_UiB/pre_processing_binarizing.ipynb#W2sZmlsZQ%3D%3D?line=10'>11</a>\u001b[0m     \u001b[39mif\u001b[39;00m nid \u001b[39mnot\u001b[39;00m \u001b[39min\u001b[39;00m nids:\n\u001b[0;32m     <a href='vscode-notebook-cell:/c%3A/Users/sophi/Desktop/MT_UiB/pre_processing_binarizing.ipynb#W2sZmlsZQ%3D%3D?line=11'>12</a>\u001b[0m         pair \u001b[39m=\u001b[39m [nid, nationality]\n",
      "File \u001b[1;32mc:\\Users\\sophi\\Miniconda3\\envs\\MT\\lib\\site-packages\\pandas\\core\\series.py:951\u001b[0m, in \u001b[0;36mSeries.__getitem__\u001b[1;34m(self, key)\u001b[0m\n\u001b[0;32m    948\u001b[0m     \u001b[39mreturn\u001b[39;00m \u001b[39mself\u001b[39m\n\u001b[0;32m    950\u001b[0m key_is_scalar \u001b[39m=\u001b[39m is_scalar(key)\n\u001b[1;32m--> 951\u001b[0m \u001b[39mif\u001b[39;00m \u001b[39misinstance\u001b[39m(key, (\u001b[39mlist\u001b[39m, \u001b[39mtuple\u001b[39m)):\n\u001b[0;32m    952\u001b[0m     key \u001b[39m=\u001b[39m unpack_1tuple(key)\n\u001b[0;32m    954\u001b[0m \u001b[39mif\u001b[39;00m is_integer(key) \u001b[39mand\u001b[39;00m \u001b[39mself\u001b[39m\u001b[39m.\u001b[39mindex\u001b[39m.\u001b[39m_should_fallback_to_positional:\n",
      "\u001b[1;31mKeyboardInterrupt\u001b[0m: "
     ]
    }
   ],
   "source": [
    "occ_list = import_occupations(\"data/occupations_updated.csv\")\n",
    "nids = []\n",
    "country_pairs = []\n",
    "for occupation in occ_list:\n",
    "        name = occupation[0]\n",
    "        occ_file = 'data/dataframes_cleaned/' + name + '.csv'\n",
    "        df = pd.read_csv(occ_file)\n",
    "        for index, row in df.iterrows():\n",
    "            nationality = row['nationality']\n",
    "            nid = row['nid']\n",
    "            if nid not in nids:\n",
    "                pair = [nid, nationality]\n",
    "                nids.append(nid)\n",
    "                country_pairs.append(pair)\n",
    "\n",
    "df = pd.DataFrame(country_pairs)\n",
    "df.to_csv('data/country_list.csv', index=False, header=False)\n"
   ]
  },
  {
   "cell_type": "markdown",
   "metadata": {},
   "source": [
    "### Annotate all countries with their corresponding continent"
   ]
  },
  {
   "cell_type": "code",
   "execution_count": 5,
   "metadata": {},
   "outputs": [
    {
     "name": "stdout",
     "output_type": "stream",
     "text": [
      "Multiple continents associated: \n",
      "Q31063\n",
      "Q14291712\n",
      "Q1321\n",
      "Q1860\n",
      "Q9292\n",
      "Q5613380\n",
      "Q4648\n",
      "Q9240\n",
      "Q123559\n",
      "Q36392\n",
      "Q327799\n",
      "Q36510\n",
      "Q3960\n",
      "Q9168\n",
      "Q7411\n",
      "Q170284\n",
      "Q1633149\n",
      "Q23725\n",
      "Q723091\n",
      "Q6427503\n",
      "Q746558\n",
      "Q150\n",
      "Q5118\n",
      "Q2335128\n",
      "Q2719360\n",
      "Q862304\n",
      "Q1529261\n",
      "Q2443317\n",
      "Q2513167\n",
      "Q1026\n",
      "Q127885\n",
      "Q1379299\n",
      "Q87\n",
      "Q22936347\n",
      "Q124943\n",
      "Q210718\n",
      "Q910648\n",
      "Q10416611\n"
     ]
    }
   ],
   "source": [
    "country_list = pd.read_csv('data_new/country_list_extra.csv', header=None)\n",
    "for index, row in country_list.iterrows():\n",
    "    cid = row[0]\n",
    "    if cid != '?':\n",
    "        results = get_continent(cid)\n",
    "        for i, result in enumerate(results['results']['bindings']):\n",
    "            country_list.at[index,'continent'+str(i)] = result['continent']['value']\n",
    "country_list.to_csv('data_new/country_list_continents.csv', index=False, header=False)\n",
    "\n",
    "country_list = pd.read_csv('data_new/country_list_continents.csv', header=None)\n",
    "print(\"Multiple continents associated: \")\n",
    "for index, row in country_list.iterrows():\n",
    "    if not isinstance(row[2], str):\n",
    "        country_list.at[index, 2] = '?'\n",
    "country_list.to_csv('data_new/country_list_continents.csv', index=False, header=False)\n",
    "country_list = pd.read_csv('data_new/country_list_continents.csv', header=None)\n",
    "for index, row in country_list.iterrows():\n",
    "    if isinstance(row[3], str):\n",
    "        results = get_continent(row[0], original=True)\n",
    "        if len(results['results']['bindings']) == 1 :\n",
    "            country_list.at[index, 2] = results['results']['bindings'][0]['continent']['value']\n",
    "            for i in range(3,10):\n",
    "                country_list.at[index, i] = np.nan\n",
    "country_list.to_csv('data_new/country_list_continents.csv', index=False, header=False)\n"
   ]
  },
  {
   "cell_type": "code",
   "execution_count": 7,
   "metadata": {},
   "outputs": [
    {
     "name": "stdout",
     "output_type": "stream",
     "text": [
      "Q14291712 Rusland\n",
      "Q1321 Spanish\n",
      "Q1860 English\n",
      "Q9292 Azerbaijani\n",
      "Q5613380 British National (Overseas)\n",
      "Q4648 Bali\n",
      "Q9240 Indonesian\n",
      "Q36392 Moldovan\n",
      "Q327799 Türkiye\n",
      "Q36510 Modern Greek\n",
      "Q9168 Persian\n",
      "Q7411 Dutch\n",
      "Q170284 Finns\n",
      "Q1633149 Soviet people\n",
      "Q23725 Byzantium\n",
      "Q723091 Erythrae\n",
      "Q6427503 Kolonai\n",
      "Q150 French\n",
      "Q5118 Republic of Dagestan\n",
      "Q1529261 Vilayet of Tripolitania\n",
      "Q2443317 ?\n",
      "Q1026 Poles\n",
      "Q127885 Serbs\n",
      "Q22936347 Tralles\n",
      "Q210718 Asia\n",
      "Q10416611 Vandal Kingdom\n"
     ]
    }
   ],
   "source": [
    "country_list = pd.read_csv('data_new/country_list_continents.csv', header=None)\n",
    "for index, row in country_list.iterrows():\n",
    "    if isinstance(row[3], str):\n",
    "        print(row[0], row[1])"
   ]
  },
  {
   "cell_type": "markdown",
   "metadata": {},
   "source": [
    "### Make containers for age range\n",
    "1. Get all the birthyears from the dataset"
   ]
  },
  {
   "cell_type": "code",
   "execution_count": 6,
   "metadata": {},
   "outputs": [],
   "source": [
    "occ_list = import_occupations(\"data_new/occupations_updated.csv\")\n",
    "amount_containers = 5"
   ]
  },
  {
   "cell_type": "code",
   "execution_count": 7,
   "metadata": {},
   "outputs": [],
   "source": [
    "birthyears = []\n",
    "for occupation in occ_list:\n",
    "    id = occupation[1]\n",
    "    name = occupation[0]\n",
    "    occ_file = 'data_new/dataframes_cleaned/' + name + '.csv'\n",
    "    df = pd.read_csv(occ_file)\n",
    "    for index,row in df.iterrows():\n",
    "        birthyear = row['birth']\n",
    "        if isinstance(birthyear, str) and 'BC' in birthyear:\n",
    "            birthyears.append(-int(birthyear.split(' ')[0]))\n",
    "        elif birthyear == '?':\n",
    "            pass\n",
    "        else:\n",
    "            birthyears.append(int(birthyear))"
   ]
  },
  {
   "cell_type": "code",
   "execution_count": 8,
   "metadata": {},
   "outputs": [],
   "source": [
    "birthyears.sort()"
   ]
  },
  {
   "cell_type": "code",
   "execution_count": 9,
   "metadata": {},
   "outputs": [
    {
     "name": "stdout",
     "output_type": "stream",
     "text": [
      "0 : 1875\n",
      "1 : 1925\n",
      "2 : 1951\n",
      "3 : 1970\n"
     ]
    }
   ],
   "source": [
    "amount_in_container = int((len(birthyears) / amount_containers)+1)\n",
    "containers = []\n",
    "for i in range(amount_containers - 1):\n",
    "    c_value = birthyears[(i+1)*amount_in_container]\n",
    "    print(\"{i} : {value}\".format(i=i, value=c_value))\n",
    "    containers.append(c_value)"
   ]
  },
  {
   "cell_type": "code",
   "execution_count": 17,
   "metadata": {},
   "outputs": [],
   "source": [
    "pd.DataFrame(containers).to_csv('data/age_containers' + str(amount_containers) + '.csv', header=None, index=None)"
   ]
  }
 ],
 "metadata": {
  "kernelspec": {
   "display_name": "Python 3.10.4 ('MT')",
   "language": "python",
   "name": "python3"
  },
  "language_info": {
   "codemirror_mode": {
    "name": "ipython",
    "version": 3
   },
   "file_extension": ".py",
   "mimetype": "text/x-python",
   "name": "python",
   "nbconvert_exporter": "python",
   "pygments_lexer": "ipython3",
   "version": "3.10.4 | packaged by conda-forge | (main, Mar 30 2022, 08:38:02) [MSC v.1916 64 bit (AMD64)]"
  },
  "orig_nbformat": 4,
  "vscode": {
   "interpreter": {
    "hash": "bc686a98443b4652797a5cea7523f1dba0859ec3ace4f9579863ae6780390e66"
   }
  }
 },
 "nbformat": 4,
 "nbformat_minor": 2
}
