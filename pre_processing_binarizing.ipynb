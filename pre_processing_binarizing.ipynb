{
 "cells": [
  {
   "cell_type": "code",
   "execution_count": 1,
   "metadata": {},
   "outputs": [],
   "source": [
    "from helper_functions import *\n",
    "import pandas as pd\n",
    "import numpy as np"
   ]
  },
  {
   "cell_type": "markdown",
   "metadata": {},
   "source": [
    "### Make a list of all countries in the dataset"
   ]
  },
  {
   "cell_type": "code",
   "execution_count": null,
   "metadata": {},
   "outputs": [],
   "source": [
    "occ_list = import_occupations(\"data/occupations_updated.csv\")\n",
    "nids = []\n",
    "country_pairs = []\n",
    "for occupation in occ_list:\n",
    "        name = occupation[0]\n",
    "        occ_file = 'data/dataframes_cleaned/' + name + '.csv'\n",
    "        df = pd.read_csv(occ_file)\n",
    "        for index, row in df.iterrows():\n",
    "            nationality = row['nationality']\n",
    "            nid = row['nid']\n",
    "            if nid not in nids:\n",
    "                pair = [nid, nationality]\n",
    "                nids.append(nid)\n",
    "                country_pairs.append(pair)\n",
    "\n",
    "df = pd.DataFrame(country_pairs)\n",
    "df.to_csv('data/country_list.csv', index=False, header=False)\n"
   ]
  },
  {
   "cell_type": "markdown",
   "metadata": {},
   "source": [
    "### Annotate all countries with their corresponding continent"
   ]
  },
  {
   "cell_type": "code",
   "execution_count": null,
   "metadata": {},
   "outputs": [],
   "source": [
    "country_list = pd.read_csv('data/country_list.csv', header=None)\n",
    "for index, row in country_list.iterrows():\n",
    "    cid = row[0]\n",
    "    results = get_continent(cid)\n",
    "    for i, result in enumerate(results['results']['bindings']):\n",
    "        country_list.at[index,'continent'+str(i)] = result['continent']['value']\n",
    "country_list.to_csv('data/country_list_continents.csv', index=False, header=False)\n",
    "\n",
    "country_list = pd.read_csv('data/country_list_continents.csv', header=None)\n",
    "print(\"Multiple continents associated: \")\n",
    "for index, row in country_list.iterrows():\n",
    "    if not isinstance(row[2], str):\n",
    "        country_list.at[index, 2] = '?'\n",
    "country_list.to_csv('data/country_list_continents.csv', index=False, header=False)\n",
    "country_list = pd.read_csv('data/country_list_continents.csv', header=None)\n",
    "for index, row in country_list.iterrows():\n",
    "    if isinstance(row[3], str):\n",
    "        results = get_continent(row[0], original=True)\n",
    "        if len(results['results']['bindings']) == 1 :\n",
    "            country_list.at[index, 2] = results['results']['bindings'][0]['continent']['value']\n",
    "            for i in range(3,10):\n",
    "                country_list.at[index, i] = np.nan\n",
    "country_list.to_csv('data/country_list_continents.csv', index=False, header=False)\n"
   ]
  },
  {
   "cell_type": "markdown",
   "metadata": {},
   "source": [
    "### Make containers for age range\n",
    "1. Get all the birthyears from the dataset"
   ]
  },
  {
   "cell_type": "code",
   "execution_count": 15,
   "metadata": {},
   "outputs": [],
   "source": [
    "occ_list = import_occupations(\"data/occupations_updated.csv\")\n",
    "amount_containers = 10"
   ]
  },
  {
   "cell_type": "code",
   "execution_count": 3,
   "metadata": {},
   "outputs": [],
   "source": [
    "birthyears = []\n",
    "for occupation in occ_list:\n",
    "    id = occupation[1]\n",
    "    name = occupation[0]\n",
    "    occ_file = 'data/dataframes_cleaned/' + name + '.csv'\n",
    "    df = pd.read_csv(occ_file)\n",
    "    for index,row in df.iterrows():\n",
    "        birthyear = row['birth']\n",
    "        if isinstance(birthyear, str) and 'BC' in birthyear:\n",
    "            birthyears.append(-int(birthyear.split(' ')[0]))\n",
    "        else:\n",
    "            birthyears.append(int(birthyear))"
   ]
  },
  {
   "cell_type": "code",
   "execution_count": 5,
   "metadata": {},
   "outputs": [],
   "source": [
    "birthyears.sort()"
   ]
  },
  {
   "cell_type": "code",
   "execution_count": 16,
   "metadata": {},
   "outputs": [
    {
     "name": "stdout",
     "output_type": "stream",
     "text": [
      "0 : 1845\n",
      "1 : 1892\n",
      "2 : 1917\n",
      "3 : 1934\n",
      "4 : 1947\n",
      "5 : 1956\n",
      "6 : 1966\n",
      "7 : 1976\n",
      "8 : 1986\n"
     ]
    }
   ],
   "source": [
    "amount_in_container = int((len(birthyears) / amount_containers)+1)\n",
    "containers = []\n",
    "for i in range(amount_containers - 1):\n",
    "    c_value = birthyears[(i+1)*amount_in_container]\n",
    "    print(\"{i} : {value}\".format(i=i, value=c_value))\n",
    "    containers.append(c_value)"
   ]
  },
  {
   "cell_type": "code",
   "execution_count": 17,
   "metadata": {},
   "outputs": [],
   "source": [
    "pd.DataFrame(containers).to_csv('data/age_containers' + str(amount_containers) + '.csv', header=None, index=None)"
   ]
  },
  {
   "cell_type": "code",
   "execution_count": null,
   "metadata": {},
   "outputs": [],
   "source": []
  }
 ],
 "metadata": {
  "kernelspec": {
   "display_name": "Python 3.10.4 ('MT')",
   "language": "python",
   "name": "python3"
  },
  "language_info": {
   "codemirror_mode": {
    "name": "ipython",
    "version": 3
   },
   "file_extension": ".py",
   "mimetype": "text/x-python",
   "name": "python",
   "nbconvert_exporter": "python",
   "pygments_lexer": "ipython3",
   "version": "3.10.4"
  },
  "orig_nbformat": 4,
  "vscode": {
   "interpreter": {
    "hash": "bc686a98443b4652797a5cea7523f1dba0859ec3ace4f9579863ae6780390e66"
   }
  }
 },
 "nbformat": 4,
 "nbformat_minor": 2
}
