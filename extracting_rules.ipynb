{
 "cells": [
  {
   "cell_type": "markdown",
   "metadata": {},
   "source": [
    "## Extracting Rules from a Language Model "
   ]
  },
  {
   "cell_type": "code",
   "execution_count": 3,
   "metadata": {},
   "outputs": [],
   "source": [
    "from rule_extractor_original.Lenses_dataset.Horn import *\n",
    "from binarize_features import *"
   ]
  },
  {
   "cell_type": "markdown",
   "metadata": {},
   "source": [
    "### Import variables and sizes with the binarizer"
   ]
  },
  {
   "cell_type": "code",
   "execution_count": null,
   "metadata": {},
   "outputs": [],
   "source": []
  },
  {
   "cell_type": "markdown",
   "metadata": {},
   "source": [
    "### Create classified samples from the Language Model"
   ]
  },
  {
   "cell_type": "code",
   "execution_count": null,
   "metadata": {},
   "outputs": [],
   "source": [
    "def create_classified_sample_from_LM():"
   ]
  },
  {
   "cell_type": "markdown",
   "metadata": {},
   "source": [
    "### Define equivalence and membership queries for language model\n",
    "\n",
    "Adjust methods for equivalence and membership queries so that they fit with inputs and outputs for a language model. "
   ]
  },
  {
   "cell_type": "code",
   "execution_count": null,
   "metadata": {},
   "outputs": [],
   "source": [
    "def custom_EQ(H, NN_1, V, bad_nc):\n",
    "    sample = create_classified_sample_from_LM()\n",
    "    h = true\n",
    "    if len(H):\n",
    "        h = set2theory(H)\n",
    "    for (a,l) in sample:\n",
    "        if l == 0 and evaluate(h,a,V) and a not in bad_nc:\n",
    "            return a\n",
    "        if l == 1 and not evaluate(h,a,V):\n",
    "            sample.remove((a,l))\n",
    "            return a\n",
    "    return True\n",
    "\n",
    "def custom_MQ(assignment, NN = NN_1):\n",
    "    res  = ( True if NN.predict_classes([assignment])[0] == 1\n",
    "                else False)\n",
    "    return res"
   ]
  },
  {
   "cell_type": "code",
   "execution_count": null,
   "metadata": {},
   "outputs": [],
   "source": []
  }
 ],
 "metadata": {
  "kernelspec": {
   "display_name": "Python 3.10.4 ('MT')",
   "language": "python",
   "name": "python3"
  },
  "language_info": {
   "codemirror_mode": {
    "name": "ipython",
    "version": 3
   },
   "file_extension": ".py",
   "mimetype": "text/x-python",
   "name": "python",
   "nbconvert_exporter": "python",
   "pygments_lexer": "ipython3",
   "version": "3.10.4"
  },
  "orig_nbformat": 4,
  "vscode": {
   "interpreter": {
    "hash": "bc686a98443b4652797a5cea7523f1dba0859ec3ace4f9579863ae6780390e66"
   }
  }
 },
 "nbformat": 4,
 "nbformat_minor": 2
}
