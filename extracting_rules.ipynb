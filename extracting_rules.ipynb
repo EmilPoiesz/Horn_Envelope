{
 "cells": [
  {
   "cell_type": "markdown",
   "metadata": {},
   "source": [
    "## Extracting Rules from a Language Model "
   ]
  },
  {
   "cell_type": "code",
   "execution_count": 1,
   "metadata": {},
   "outputs": [
    {
     "name": "stdout",
     "output_type": "stream",
     "text": [
      "122\n"
     ]
    },
    {
     "name": "stderr",
     "output_type": "stream",
     "text": [
      "c:\\Users\\sophi\\Miniconda3\\envs\\MT\\lib\\site-packages\\scipy\\__init__.py:146: UserWarning: A NumPy version >=1.16.5 and <1.23.0 is required for this version of SciPy (detected version 1.23.1\n",
      "  warnings.warn(f\"A NumPy version >={np_minversion} and <{np_maxversion}\"\n"
     ]
    }
   ],
   "source": [
    "import numpy as np\n",
    "import random\n",
    "import timeit\n",
    "from rule_extractor_original.Lenses_dataset.Horn import *\n",
    "from binarize_features import *\n",
    "from transformers import pipeline\n",
    "from helper_functions import *\n",
    "from scipy.special import comb\n",
    "import pickle"
   ]
  },
  {
   "cell_type": "markdown",
   "metadata": {},
   "source": [
    "### Import variables and sizes with the binarizer"
   ]
  },
  {
   "cell_type": "code",
   "execution_count": 4,
   "metadata": {},
   "outputs": [
    {
     "name": "stdout",
     "output_type": "stream",
     "text": [
      "{'nurse': 0, 'fashion_designer': 1, 'dancer': 2, 'footballer': 3, 'industrialist': 4, 'boxer': 5, 'singer': 6, 'violinist': 7}\n"
     ]
    }
   ],
   "source": [
    "country_file = 'data/country_list_continents_new.csv'\n",
    "occ_file = 'data_new/occupations_subset.csv'\n",
    "#occ_file = 'data/occupations_subset.csv'\n",
    "binarizer = Binarizer(country_file, 5, occ_file)\n",
    "print(binarizer.occupation_lookup)"
   ]
  },
  {
   "cell_type": "code",
   "execution_count": 5,
   "metadata": {},
   "outputs": [
    {
     "name": "stdout",
     "output_type": "stream",
     "text": [
      "['nurse' 'fashion_designer' 'dancer' 'footballer' 'industrialist' 'boxer'\n",
      " 'singer' 'violinist']\n"
     ]
    }
   ],
   "source": [
    "print(pd.read_csv('data_new/occupations_subset.csv').to_numpy().flatten())"
   ]
  },
  {
   "cell_type": "code",
   "execution_count": 6,
   "metadata": {},
   "outputs": [],
   "source": [
    "models = ['roberta-base', 'roberta-large', 'bert-base-cased', 'bert-large-cased']\n",
    "# add 2 dimensions for the gender variables (last variables in the vector)\n",
    "dim = sum(binarizer.lengths.values()) + 2\n",
    "V = define_variables(dim)\n",
    "language_model = models[0]\n",
    "#seed = 123 #reproducability\n",
    "epsilon = 0.3\n",
    "delta = 0.1"
   ]
  },
  {
   "cell_type": "markdown",
   "metadata": {},
   "source": [
    "Sample size code taken from Lenses.ipynb"
   ]
  },
  {
   "cell_type": "code",
   "execution_count": 7,
   "metadata": {},
   "outputs": [
    {
     "name": "stdout",
     "output_type": "stream",
     "text": [
      "1926\n",
      "24\n"
     ]
    }
   ],
   "source": [
    "def get_eq_sample_size(n_variables=dim, epsilon=epsilon, delta=delta):\n",
    "    return int((4/epsilon) * (log( log( Pow(2,comb(n_variables,n_variables/2)) ) )/delta) + 1)\n",
    "print(get_eq_sample_size())\n",
    "print(dim)"
   ]
  },
  {
   "cell_type": "markdown",
   "metadata": {},
   "source": [
    "### Create classified samples from the Language Model"
   ]
  },
  {
   "cell_type": "code",
   "execution_count": 6,
   "metadata": {},
   "outputs": [],
   "source": [
    "def get_random_sample(length, allow_zero = True, amount_of_true=1):\n",
    "    vec = np.zeros(length, dtype=np.int8)\n",
    "    # allow for all zeroes: one extra sample length and if its out of index range, use all zeroes vector (equal possibility)\n",
    "    if allow_zero:\n",
    "        idx = random.sample(range(length + 1), k=amount_of_true)\n",
    "    else:\n",
    "        idx = random.sample(range(length), k=amount_of_true)\n",
    "    for i in idx:\n",
    "        if i < length:\n",
    "            vec[i] = 1\n",
    "    return list(vec)"
   ]
  },
  {
   "cell_type": "code",
   "execution_count": 7,
   "metadata": {},
   "outputs": [],
   "source": [
    "def get_label(classification, gender):\n",
    "    if (gender[0] == 1 and classification == 0) or (gender[1] == 1 and classification == 1):\n",
    "        return 1\n",
    "    else:\n",
    "        return 0"
   ]
  },
  {
   "cell_type": "code",
   "execution_count": 8,
   "metadata": {},
   "outputs": [
    {
     "name": "stdout",
     "output_type": "stream",
     "text": [
      "<mask> was born after 1976 in North America and is a not known occupation.\n",
      "([0, 0, 0, 0, 1, 1, 0, 0, 0, 0, 0, 0, 0, 0, 0, 0, 0, 0, 0, 0, 0, 0, 0, 0, 0, 1], 1, [0, 1], 1)\n",
      "<mask> was born after 1976 in South America and is a footballer.\n",
      "([0, 0, 0, 0, 1, 0, 0, 0, 0, 1, 0, 0, 0, 0, 0, 0, 0, 0, 1, 0, 0, 0, 0, 0, 1, 0], 1, [1, 0], 0)\n",
      "<mask> was born between 1892 and 1934 in South America and is a banker.\n",
      "([0, 1, 0, 0, 0, 0, 0, 0, 0, 1, 0, 0, 0, 0, 0, 0, 0, 0, 0, 1, 0, 0, 0, 0, 1, 0], 1, [1, 0], 0)\n",
      "<mask> was born after 1976 in Africa and is a dancer.\n",
      "([0, 0, 0, 0, 1, 0, 1, 0, 0, 0, 0, 0, 0, 0, 0, 0, 1, 0, 0, 0, 0, 0, 0, 0, 1, 0], 0, [1, 0], 1)\n",
      "<mask> was born between 1934 and 1956 in South America and is a mathematician.\n",
      "([0, 0, 1, 0, 0, 0, 0, 0, 0, 1, 0, 0, 0, 0, 0, 0, 0, 0, 0, 0, 0, 0, 1, 0, 1, 0], 1, [1, 0], 0)\n"
     ]
    }
   ],
   "source": [
    "#len(V) = num_variables\n",
    "attributes = ['birth', 'continent', 'occupation']\n",
    "#new tactic: \n",
    "#num_variables inherited by binarizer that has to be initialized\n",
    "def create_classified_sample_from_LM(lm : str, sample_size : int, binarizer : Binarizer, unmasker, verbose = False):\n",
    "    dataset = []\n",
    "    # create all the samples randomly by specific sampling strategy and classify them immediatley \n",
    "    # -> there is no time savings in using a batch of samples at once and therefore predictions can be done immediately\n",
    "    for i in range(sample_size):\n",
    "        vec = []\n",
    "        for att in attributes:\n",
    "            # get the appropriate vector for each attribute and tie them together in the end\n",
    "            vec = [*vec, *get_random_sample(binarizer.lengths[att], allow_zero=True)]\n",
    "        s = binarizer.sentence_from_binary(vec)\n",
    "        if verbose:\n",
    "            print(s)\n",
    "        # classification: 0 = female, 1 = male\n",
    "        classification = get_prediction(lm_inference(unmasker, s, model=lm), binary = True)\n",
    "        # get random gender as a fourth attribute (in the end of the vector) as a one-hot-encoding with two dimensions: [female, male]\n",
    "        gender_vec = get_random_sample(2, allow_zero=False)\n",
    "        vec = [*vec, *gender_vec]\n",
    "        # if the sampled gender is equal the classification (correctly classified) then we return 1 as 'is valid sentence' \n",
    "        # if sampled gender and classification don't match, the sample is not valid and we return 0 as a label\n",
    "        label = get_label(classification, gender_vec)\n",
    "        if verbose:\n",
    "            print((vec,classification, gender_vec, label))\n",
    "        dataset.append((vec,label))\n",
    "    return dataset\n",
    "dataset = create_classified_sample_from_LM(language_model, 5, binarizer, pipeline('fill-mask', model=language_model), verbose = True)"
   ]
  },
  {
   "cell_type": "markdown",
   "metadata": {},
   "source": [
    "### Define equivalence and membership queries for language model\n",
    "\n",
    "Adjust methods for equivalence and membership queries so that they fit with inputs and outputs for a language model. \n",
    "1. use modified `create_classified_sample_from_LM`\n",
    "2. replace prediction in MQ with prediction from language model"
   ]
  },
  {
   "cell_type": "code",
   "execution_count": 9,
   "metadata": {},
   "outputs": [],
   "source": [
    "def custom_EQ(H, lm, unmasker, V, bad_nc, binarizer : Binarizer):\n",
    "    sample = create_classified_sample_from_LM(lm, get_eq_sample_size(), binarizer, unmasker)\n",
    "    h = true\n",
    "    if len(H):\n",
    "        h = set2theory(H)\n",
    "    for (a,l) in sample:\n",
    "        if l == 0 and evaluate(h,a,V) and a not in bad_nc:\n",
    "            return a\n",
    "        if l == 1 and not evaluate(h,a,V):\n",
    "            sample.remove((a,l))\n",
    "            return a\n",
    "    return True\n",
    "\n",
    "def custom_MQ(assignment, lm, unmasker, binarizer : Binarizer):\n",
    "    vec = assignment[:-2]\n",
    "    gender_vec = assignment[-2:]\n",
    "    s = binarizer.sentence_from_binary(vec)\n",
    "    classification = get_prediction(lm_inference(unmasker, s, model=lm), binary = True)\n",
    "    label = get_label(classification, gender_vec)\n",
    "    res  = ( True if label == 1\n",
    "                else False)\n",
    "    return res"
   ]
  },
  {
   "cell_type": "markdown",
   "metadata": {},
   "source": [
    "### Modify `extract_horn_with_queries` "
   ]
  },
  {
   "cell_type": "code",
   "execution_count": 10,
   "metadata": {},
   "outputs": [],
   "source": [
    "def extract_horn_with_queries_1(lm, V, iterations, binarizer, background, verbose = 0):\n",
    "    bad_pc = []\n",
    "    bad_ne =[]\n",
    "    unmasker = pipeline('fill-mask', model=lm)\n",
    "    mq = lambda a : custom_MQ(a, lm, unmasker, binarizer)\n",
    "    eq = lambda a : custom_EQ(a, lm, unmasker, V, bad_ne, binarizer)\n",
    "\n",
    "    start = timeit.default_timer()\n",
    "    h = learn(V, mq, eq, bad_ne, bad_pc, background = background, iterations=iterations, verbose = verbose)\n",
    "    stop = timeit.default_timer()\n",
    "    runtime = stop-start\n",
    "\n",
    "    runtime_per_iteration = runtime / iterations\n",
    "    return (h,runtime,runtime_per_iteration)\n"
   ]
  },
  {
   "cell_type": "markdown",
   "metadata": {},
   "source": [
    "## Run experiments \n",
    "\n",
    "Make a background that clarifies that some features can't appear at the same time to allow for the one-hot-encoding."
   ]
  },
  {
   "cell_type": "code",
   "execution_count": 8,
   "metadata": {},
   "outputs": [
    {
     "name": "stdout",
     "output_type": "stream",
     "text": [
      "[v0, v1, v2, v3, v4, v5, v6, v7, v8, v9, v10, v11, v12, v13, v14, v15, v16, v17, v18, v19, v20, v21, v22, v23]\n",
      "{'birth': 5, 'continent': 9, 'occupation': 8}\n"
     ]
    }
   ],
   "source": [
    "print(V)\n",
    "print(binarizer.lengths)"
   ]
  },
  {
   "cell_type": "code",
   "execution_count": 10,
   "metadata": {},
   "outputs": [
    {
     "name": "stdout",
     "output_type": "stream",
     "text": [
      "{(~(V[0] & V[1])),\n",
      "(~(V[0] & V[2])),\n",
      "(~(V[0] & V[3])),\n",
      "(~(V[0] & V[4])),\n",
      "(~(V[1] & V[2])),\n",
      "(~(V[1] & V[3])),\n",
      "(~(V[1] & V[4])),\n",
      "(~(V[2] & V[3])),\n",
      "(~(V[2] & V[4])),\n",
      "(~(V[3] & V[4])),\n",
      "(~(V[5] & V[6])),\n",
      "(~(V[5] & V[7])),\n",
      "(~(V[5] & V[8])),\n",
      "(~(V[5] & V[9])),\n",
      "(~(V[5] & V[10])),\n",
      "(~(V[5] & V[11])),\n",
      "(~(V[5] & V[12])),\n",
      "(~(V[5] & V[13])),\n",
      "(~(V[6] & V[7])),\n",
      "(~(V[6] & V[8])),\n",
      "(~(V[6] & V[9])),\n",
      "(~(V[6] & V[10])),\n",
      "(~(V[6] & V[11])),\n",
      "(~(V[6] & V[12])),\n",
      "(~(V[6] & V[13])),\n",
      "(~(V[7] & V[8])),\n",
      "(~(V[7] & V[9])),\n",
      "(~(V[7] & V[10])),\n",
      "(~(V[7] & V[11])),\n",
      "(~(V[7] & V[12])),\n",
      "(~(V[7] & V[13])),\n",
      "(~(V[8] & V[9])),\n",
      "(~(V[8] & V[10])),\n",
      "(~(V[8] & V[11])),\n",
      "(~(V[8] & V[12])),\n",
      "(~(V[8] & V[13])),\n",
      "(~(V[9] & V[10])),\n",
      "(~(V[9] & V[11])),\n",
      "(~(V[9] & V[12])),\n",
      "(~(V[9] & V[13])),\n",
      "(~(V[10] & V[11])),\n",
      "(~(V[10] & V[12])),\n",
      "(~(V[10] & V[13])),\n",
      "(~(V[11] & V[12])),\n",
      "(~(V[11] & V[13])),\n",
      "(~(V[12] & V[13])),\n",
      "(~(V[14] & V[15])),\n",
      "(~(V[14] & V[16])),\n",
      "(~(V[14] & V[17])),\n",
      "(~(V[14] & V[18])),\n",
      "(~(V[14] & V[19])),\n",
      "(~(V[14] & V[20])),\n",
      "(~(V[14] & V[21])),\n",
      "(~(V[15] & V[16])),\n",
      "(~(V[15] & V[17])),\n",
      "(~(V[15] & V[18])),\n",
      "(~(V[15] & V[19])),\n",
      "(~(V[15] & V[20])),\n",
      "(~(V[15] & V[21])),\n",
      "(~(V[16] & V[17])),\n",
      "(~(V[16] & V[18])),\n",
      "(~(V[16] & V[19])),\n",
      "(~(V[16] & V[20])),\n",
      "(~(V[16] & V[21])),\n",
      "(~(V[17] & V[18])),\n",
      "(~(V[17] & V[19])),\n",
      "(~(V[17] & V[20])),\n",
      "(~(V[17] & V[21])),\n",
      "(~(V[18] & V[19])),\n",
      "(~(V[18] & V[20])),\n",
      "(~(V[18] & V[21])),\n",
      "(~(V[19] & V[20])),\n",
      "(~(V[19] & V[21])),\n",
      "(~(V[20] & V[21])),\n",
      "(~(V[22] & V[23])),\n",
      "}\n"
     ]
    }
   ],
   "source": [
    "background_string = \"{\"\n",
    "for idx, length in enumerate(binarizer.lengths.values()):\n",
    "    for i in range(length):\n",
    "        for j in range(i+1,length):\n",
    "            add = 0\n",
    "            if idx == 1:\n",
    "                add = 5\n",
    "            elif idx == 2:\n",
    "                add = 5 + 9\n",
    "            background_string = background_string + \"(~(V[\" + str(i+add) + \"] & V[\" + str(j+add) + \"])),\\n\"\n",
    "background_string = background_string + \"(~(V[22] & V[23])),\\n\"\n",
    "background_string = background_string + \"}\"\n",
    "print(background_string)"
   ]
  },
  {
   "cell_type": "code",
   "execution_count": 13,
   "metadata": {},
   "outputs": [],
   "source": [
    "background = {(~(V[0] & V[1])),\n",
    "(~(V[0] & V[2])),\n",
    "(~(V[0] & V[3])),\n",
    "(~(V[0] & V[4])),\n",
    "(~(V[1] & V[2])),\n",
    "(~(V[1] & V[3])),\n",
    "(~(V[1] & V[4])),\n",
    "(~(V[2] & V[3])),\n",
    "(~(V[2] & V[4])),\n",
    "(~(V[3] & V[4])),\n",
    "(~(V[5] & V[6])),\n",
    "(~(V[5] & V[7])),\n",
    "(~(V[5] & V[8])),\n",
    "(~(V[5] & V[9])),\n",
    "(~(V[5] & V[10])),\n",
    "(~(V[5] & V[11])),\n",
    "(~(V[5] & V[12])),\n",
    "(~(V[5] & V[13])),\n",
    "(~(V[6] & V[7])),\n",
    "(~(V[6] & V[8])),\n",
    "(~(V[6] & V[9])),\n",
    "(~(V[6] & V[10])),\n",
    "(~(V[6] & V[11])),\n",
    "(~(V[6] & V[12])),\n",
    "(~(V[6] & V[13])),\n",
    "(~(V[7] & V[8])),\n",
    "(~(V[7] & V[9])),\n",
    "(~(V[7] & V[10])),\n",
    "(~(V[7] & V[11])),\n",
    "(~(V[7] & V[12])),\n",
    "(~(V[7] & V[13])),\n",
    "(~(V[8] & V[9])),\n",
    "(~(V[8] & V[10])),\n",
    "(~(V[8] & V[11])),\n",
    "(~(V[8] & V[12])),\n",
    "(~(V[8] & V[13])),\n",
    "(~(V[9] & V[10])),\n",
    "(~(V[9] & V[11])),\n",
    "(~(V[9] & V[12])),\n",
    "(~(V[9] & V[13])),\n",
    "(~(V[10] & V[11])),\n",
    "(~(V[10] & V[12])),\n",
    "(~(V[10] & V[13])),\n",
    "(~(V[11] & V[12])),\n",
    "(~(V[11] & V[13])),\n",
    "(~(V[12] & V[13])),\n",
    "(~(V[14] & V[15])),\n",
    "(~(V[14] & V[16])),\n",
    "(~(V[14] & V[17])),\n",
    "(~(V[14] & V[18])),\n",
    "(~(V[14] & V[19])),\n",
    "(~(V[14] & V[20])),\n",
    "(~(V[14] & V[21])),\n",
    "(~(V[14] & V[22])),\n",
    "(~(V[14] & V[23])),\n",
    "(~(V[15] & V[16])),\n",
    "(~(V[15] & V[17])),\n",
    "(~(V[15] & V[18])),\n",
    "(~(V[15] & V[19])),\n",
    "(~(V[15] & V[20])),\n",
    "(~(V[15] & V[21])),\n",
    "(~(V[15] & V[22])),\n",
    "(~(V[15] & V[23])),\n",
    "(~(V[16] & V[17])),\n",
    "(~(V[16] & V[18])),\n",
    "(~(V[16] & V[19])),\n",
    "(~(V[16] & V[20])),\n",
    "(~(V[16] & V[21])),\n",
    "(~(V[16] & V[22])),\n",
    "(~(V[16] & V[23])),\n",
    "(~(V[17] & V[18])),\n",
    "(~(V[17] & V[19])),\n",
    "(~(V[17] & V[20])),\n",
    "(~(V[17] & V[21])),\n",
    "(~(V[17] & V[22])),\n",
    "(~(V[17] & V[23])),\n",
    "(~(V[18] & V[19])),\n",
    "(~(V[18] & V[20])),\n",
    "(~(V[18] & V[21])),\n",
    "(~(V[18] & V[22])),\n",
    "(~(V[18] & V[23])),\n",
    "(~(V[19] & V[20])),\n",
    "(~(V[19] & V[21])),\n",
    "(~(V[19] & V[22])),\n",
    "(~(V[19] & V[23])),\n",
    "(~(V[20] & V[21])),\n",
    "(~(V[20] & V[22])),\n",
    "(~(V[20] & V[23])),\n",
    "(~(V[21] & V[22])),\n",
    "(~(V[21] & V[23])),\n",
    "(~(V[22] & V[23])),\n",
    "(~(V[24] & V[25])),\n",
    "}"
   ]
  },
  {
   "cell_type": "code",
   "execution_count": 14,
   "metadata": {},
   "outputs": [],
   "source": [
    "with open('data/background.txt', 'wb') as f:\n",
    "    pickle.dump(background, f)"
   ]
  },
  {
   "cell_type": "code",
   "execution_count": 15,
   "metadata": {},
   "outputs": [
    {
     "name": "stdout",
     "output_type": "stream",
     "text": [
      "Iteration 10\n",
      "\n",
      "hypothesis is {~(v6 & v8), ~(v20 & v23), ~(v10 & v11), ~(v18 & v23), ~(v12 & v5), ~(v5 & v7), ~(v15 & v22), ~(v14 & v16), ~(v11 & v6), ~(v19 & v22), ~(v15 & v20), ~(v13 & v9), ~(v0 & v1), ~(v19 & v20), ~(v10 & v9), ~(v14 & v17), ~(v16 & v19), ~(v11 & v7), ~(v24 & v25), ~(v15 & v23), ~(v10 & v12), ~(v6 & v9), ~(v0 & v2), ~(v8 & v9), ~(v2 & v3), ~(v13 & v8), ~(v10 & v8), ~(v14 & v15), ~(v16 & v17), ~(v20 & v21), ~(v1 & v4), ~(v15 & v16), ~(v14 & v18), ~(v0 & v4), ~(v0 & v3), ~(v13 & v7), ~(v15 & v17), ~(v10 & v13), ~(v12 & v9), ~(v13 & v6), ~(v14 & v23), ~(v16 & v23), ~(v16 & v18), ~(v5 & v8), ~(v3 & v4), ~(v21 & v22), ~(v7 & v9), ~(v19 & v23), ~(v11 & v8), ~(v20 & v22), ~(v15 & v18), ~(v17 & v23), ~(v14 & v21), ~(v13 & v5), ~(v10 & v5), ~(v1 & v2), ~(v6 & v7), ~(v21 & v23), ~(v22 & v23), ~(v18 & v21), ~(v14 & v19), ~(v5 & v6), ~(v7 & v8), ~(v17 & v21), ~(v16 & v21), ~(v12 & v8), ~(v11 & v9), ~(v18 & v19), ~(v12 & v6), ~(v2 & v4), ~(v17 & v19), ~(v11 & v12), ~(v10 & v6), ~(v1 & v3), ~(v5 & v9), ~(v15 & v21), ~(v19 & v21), ~(v14 & v22), ~(v12 & v13), ~(v12 & v7), ~(v14 & v20), ~(v16 & v20), ~(v10 & v7), ~(v11 & v5), ~(v15 & v19), ~(v18 & v22), ~(v18 & v20), ~(v17 & v20), ~(v17 & v18), ~(v17 & v22), ~(v11 & v13), ~(v16 & v22)}.\n",
      "\n",
      "counterexample: [0, 1, 0, 0, 0, 0, 0, 1, 0, 0, 0, 0, 0, 0, 0, 0, 0, 0, 0, 0, 0, 1, 0, 0, 1, 0]\n",
      "\n",
      "S: []\n",
      "bad_nc is[]\n",
      "\n",
      "bad_pc is[]\n",
      "\n",
      "\n",
      "\n",
      "\n",
      "\n",
      "Iteration 9\n",
      "\n",
      "hypothesis is {~(v6 & v8), ~(v20 & v23), Implies(v1 & v21 & v24 & v7, v13), ~(v10 & v11), ~(v18 & v23), Implies(v1 & v21 & v24 & v7, v8), ~(v12 & v5), ~(v5 & v7), ~(v15 & v22), ~(v14 & v16), ~(v11 & v6), ~(v19 & v22), ~(v15 & v20), ~(v13 & v9), ~(v0 & v1), ~(v19 & v20), ~(v10 & v9), Implies(v1 & v21 & v24 & v7, v11), ~(v14 & v17), ~(v16 & v19), ~(v11 & v7), ~(v24 & v25), ~(v15 & v23), ~(v10 & v12), ~(v6 & v9), ~(v0 & v2), ~(v8 & v9), ~(v2 & v3), Implies(v1 & v21 & v24 & v7, v19), ~(v13 & v8), ~(v10 & v8), Implies(v1 & v21 & v24 & v7, v23), ~(v14 & v15), ~(v16 & v17), ~(v20 & v21), Implies(v1 & v21 & v24 & v7, v6), ~(v1 & v4), ~(v15 & v16), ~(v14 & v18), ~(v0 & v4), ~(v0 & v3), ~(v13 & v7), ~(v15 & v17), ~(v10 & v13), Implies(v1 & v21 & v24 & v7, v16), Implies(v1 & v21 & v24 & v7, v18), Implies(v1 & v21 & v24 & v7, v25), ~(v12 & v9), ~(v13 & v6), ~(v14 & v23), ~(v16 & v23), ~(v16 & v18), ~(v5 & v8), ~(v3 & v4), Implies(v1 & v21 & v24 & v7, v5), ~(v21 & v22), ~(v7 & v9), ~(v19 & v23), ~(v11 & v8), ~(v20 & v22), Implies(v1 & v21 & v24 & v7, v0), ~(v15 & v18), ~(v17 & v23), ~(v14 & v21), ~(v13 & v5), Implies(v1 & v21 & v24 & v7, v17), ~(v10 & v5), ~(v1 & v2), ~(v6 & v7), ~(v21 & v23), ~(v22 & v23), Implies(v1 & v21 & v24 & v7, v14), ~(v18 & v21), ~(v14 & v19), ~(v5 & v6), ~(v7 & v8), Implies(v1 & v21 & v24 & v7, v15), ~(v17 & v21), Implies(v1 & v21 & v24 & v7, v2), ~(v16 & v21), ~(v12 & v8), ~(v11 & v9), ~(v18 & v19), ~(v12 & v6), ~(v2 & v4), Implies(v1 & v21 & v24 & v7, v3), ~(v17 & v19), ~(v11 & v12), ~(v10 & v6), ~(v1 & v3), ~(v5 & v9), ~(v15 & v21), ~(v19 & v21), ~(v14 & v22), ~(v12 & v13), Implies(v1 & v21 & v24 & v7, v4), Implies(v1 & v21 & v24 & v7, v20), ~(v12 & v7), ~(v14 & v20), ~(v16 & v20), ~(v10 & v7), Implies(v1 & v21 & v24 & v7, v22), ~(v11 & v5), ~(v15 & v19), Implies(v1 & v21 & v24 & v7, v9), ~(v1 & v21 & v24 & v7), ~(v18 & v22), ~(v18 & v20), ~(v17 & v20), ~(v17 & v18), Implies(v1 & v21 & v24 & v7, v12), ~(v17 & v22), Implies(v1 & v21 & v24 & v7, v10), ~(v11 & v13), ~(v16 & v22)}.\n",
      "\n",
      "counterexample: [0, 1, 0, 0, 0, 0, 0, 0, 0, 0, 0, 1, 0, 0, 0, 0, 1, 0, 0, 0, 0, 0, 0, 0, 1, 0]\n",
      "\n",
      "S: [[0, 1, 0, 0, 0, 0, 0, 1, 0, 0, 0, 0, 0, 0, 0, 0, 0, 0, 0, 0, 0, 1, 0, 0, 1, 0]]\n",
      "bad_nc is[]\n",
      "\n",
      "bad_pc is[]\n",
      "\n",
      "\n",
      "\n",
      "\n",
      "\n",
      "Iteration 8\n",
      "\n",
      "hypothesis is {~(v6 & v8), Implies(v1 & v24, v16), ~(v20 & v23), Implies(v1 & v24, v25), ~(v10 & v11), Implies(v1 & v24, v12), ~(v18 & v23), ~(v12 & v5), ~(v5 & v7), ~(v15 & v22), ~(v14 & v16), ~(v11 & v6), ~(v19 & v22), ~(v15 & v20), ~(v13 & v9), ~(v0 & v1), ~(v19 & v20), ~(v10 & v9), ~(v14 & v17), ~(v16 & v19), ~(v11 & v7), ~(v24 & v25), ~(v15 & v23), ~(v10 & v12), ~(v6 & v9), ~(v0 & v2), Implies(v1 & v24, v11), ~(v8 & v9), ~(v1 & v24), ~(v2 & v3), ~(v13 & v8), ~(v10 & v8), ~(v14 & v15), ~(v16 & v17), ~(v20 & v21), Implies(v1 & v24, v15), ~(v1 & v4), ~(v15 & v16), Implies(v1 & v24, v21), ~(v14 & v18), Implies(v1 & v24, v19), ~(v0 & v4), ~(v0 & v3), ~(v13 & v7), ~(v15 & v17), ~(v10 & v13), Implies(v1 & v24, v3), ~(v12 & v9), ~(v13 & v6), ~(v14 & v23), Implies(v1 & v24, v7), ~(v16 & v23), ~(v16 & v18), ~(v5 & v8), Implies(v1 & v24, v22), Implies(v1 & v24, v18), ~(v3 & v4), ~(v21 & v22), ~(v7 & v9), ~(v19 & v23), ~(v11 & v8), ~(v20 & v22), ~(v15 & v18), ~(v17 & v23), ~(v14 & v21), Implies(v1 & v24, v10), ~(v13 & v5), Implies(v1 & v24, v5), ~(v10 & v5), ~(v1 & v2), ~(v6 & v7), ~(v21 & v23), ~(v22 & v23), Implies(v1 & v24, v13), Implies(v1 & v24, v0), ~(v18 & v21), ~(v14 & v19), ~(v5 & v6), ~(v7 & v8), Implies(v1 & v24, v8), Implies(v1 & v24, v17), ~(v17 & v21), Implies(v1 & v24, v14), ~(v16 & v21), ~(v12 & v8), ~(v11 & v9), ~(v18 & v19), ~(v12 & v6), ~(v2 & v4), Implies(v1 & v24, v2), ~(v17 & v19), ~(v10 & v6), ~(v1 & v3), ~(v11 & v12), ~(v15 & v21), ~(v5 & v9), ~(v19 & v21), ~(v14 & v22), ~(v12 & v13), ~(v12 & v7), ~(v14 & v20), ~(v16 & v20), ~(v10 & v7), ~(v11 & v5), Implies(v1 & v24, v23), ~(v15 & v19), Implies(v1 & v24, v6), ~(v18 & v22), Implies(v1 & v24, v4), Implies(v1 & v24, v20), ~(v18 & v20), ~(v17 & v20), ~(v17 & v18), ~(v17 & v22), ~(v11 & v13), ~(v16 & v22), Implies(v1 & v24, v9)}.\n",
      "\n",
      "counterexample: [0, 0, 0, 0, 0, 0, 0, 0, 0, 1, 0, 0, 0, 0, 1, 0, 0, 0, 0, 0, 0, 0, 0, 0, 0, 1]\n",
      "\n",
      "S: [[0, 1, 0, 0, 0, 0, 0, 0, 0, 0, 0, 0, 0, 0, 0, 0, 0, 0, 0, 0, 0, 0, 0, 0, 1, 0]]\n",
      "bad_nc is[]\n",
      "\n",
      "bad_pc is[]\n",
      "\n",
      "\n",
      "\n",
      "\n",
      "\n",
      "Iteration 7\n",
      "\n",
      "hypothesis is {False, ~(v6 & v8), ~(v20 & v23), ~(v10 & v11), ~(v18 & v23), ~(v12 & v5), v7, ~(v5 & v7), ~(v15 & v22), ~(v14 & v16), ~(v11 & v6), ~(v19 & v22), ~(v15 & v20), ~(v13 & v9), ~(v0 & v1), ~(v19 & v20), ~(v10 & v9), v18, ~(v14 & v17), v25, ~(v16 & v19), ~(v11 & v7), v14, ~(v24 & v25), ~(v15 & v23), ~(v10 & v12), ~(v6 & v9), ~(v0 & v2), ~(v8 & v9), v22, ~(v2 & v3), ~(v13 & v8), v24, ~(v10 & v8), ~(v14 & v15), v5, ~(v16 & v17), ~(v20 & v21), ~(v1 & v4), v6, ~(v15 & v16), ~(v14 & v18), v19, v0, ~(v0 & v4), ~(v0 & v3), v20, ~(v13 & v7), ~(v15 & v17), ~(v10 & v13), v12, ~(v12 & v9), ~(v13 & v6), ~(v14 & v23), ~(v16 & v23), ~(v16 & v18), ~(v5 & v8), ~(v3 & v4), ~(v21 & v22), v4, ~(v7 & v9), ~(v19 & v23), v10, ~(v11 & v8), ~(v20 & v22), ~(v15 & v18), v2, ~(v17 & v23), ~(v14 & v21), ~(v13 & v5), v23, ~(v10 & v5), ~(v1 & v2), ~(v6 & v7), ~(v21 & v23), ~(v22 & v23), ~(v18 & v21), ~(v14 & v19), ~(v5 & v6), ~(v7 & v8), v9, ~(v17 & v21), ~(v16 & v21), ~(v12 & v8), v11, ~(v11 & v9), v3, ~(v18 & v19), ~(v12 & v6), v1, ~(v2 & v4), ~(v17 & v19), ~(v11 & v12), ~(v10 & v6), ~(v1 & v3), v15, ~(v15 & v21), ~(v5 & v9), v21, ~(v19 & v21), ~(v14 & v22), v13, ~(v12 & v13), ~(v12 & v7), ~(v14 & v20), ~(v16 & v20), ~(v10 & v7), ~(v11 & v5), ~(v15 & v19), v16, v17, ~(v18 & v22), ~(v18 & v20), v8, ~(v17 & v20), ~(v17 & v18), ~(v17 & v22), ~(v11 & v13), ~(v16 & v22)}.\n",
      "\n",
      "counterexample: [0, 0, 1, 0, 0, 0, 0, 0, 0, 0, 0, 0, 0, 0, 0, 0, 0, 0, 0, 0, 0, 0, 1, 0, 0, 1]\n",
      "\n",
      "S: [[0, 0, 0, 0, 0, 0, 0, 0, 0, 0, 0, 0, 0, 0, 0, 0, 0, 0, 0, 0, 0, 0, 0, 0, 0, 0]]\n",
      "bad_nc is[]\n",
      "\n",
      "bad_pc is[]\n",
      "\n",
      "\n",
      "\n",
      "\n",
      "\n",
      "Iteration 6\n",
      "\n",
      "hypothesis is {~(v6 & v8), ~(v20 & v23), ~(v10 & v11), ~(v18 & v23), ~(v12 & v5), ~(v5 & v7), ~(v15 & v22), ~(v14 & v16), ~(v11 & v6), ~(v19 & v22), ~(v15 & v20), ~(v13 & v9), ~(v0 & v1), ~(v19 & v20), ~(v10 & v9), ~(v14 & v17), v25, ~(v16 & v19), ~(v11 & v7), ~(v24 & v25), ~(v15 & v23), ~(v10 & v12), ~(v6 & v9), ~(v0 & v2), ~(v8 & v9), v22, ~(v2 & v3), ~(v13 & v8), ~(v10 & v8), ~(v14 & v15), ~(v16 & v17), ~(v20 & v21), ~(v1 & v4), ~(v15 & v16), ~(v14 & v18), ~(v0 & v4), ~(v0 & v3), ~(v13 & v7), ~(v15 & v17), ~(v10 & v13), ~(v12 & v9), ~(v13 & v6), ~(v14 & v23), ~(v16 & v23), ~(v16 & v18), ~(v5 & v8), ~(v3 & v4), ~(v21 & v22), ~(v7 & v9), ~(v19 & v23), ~(v11 & v8), ~(v20 & v22), ~(v15 & v18), v2, ~(v17 & v23), ~(v14 & v21), ~(v13 & v5), ~(v10 & v5), ~(v1 & v2), ~(v6 & v7), ~(v21 & v23), ~(v22 & v23), ~(v18 & v21), ~(v14 & v19), ~(v5 & v6), ~(v7 & v8), ~(v17 & v21), ~(v16 & v21), ~(v12 & v8), ~(v11 & v9), ~(v18 & v19), ~(v12 & v6), ~(v2 & v4), ~(v17 & v19), ~(v11 & v12), ~(v10 & v6), ~(v1 & v3), ~(v15 & v21), ~(v5 & v9), ~(v19 & v21), ~(v14 & v22), ~(v12 & v13), ~(v12 & v7), ~(v14 & v20), ~(v16 & v20), ~(v10 & v7), ~(v11 & v5), ~(v15 & v19), ~(v18 & v22), ~(v18 & v20), ~(v17 & v20), ~(v17 & v18), ~(v17 & v22), ~(v11 & v13), ~(v16 & v22)}.\n",
      "\n",
      "counterexample: [0, 0, 1, 0, 0, 1, 0, 0, 0, 0, 0, 0, 0, 0, 0, 0, 1, 0, 0, 0, 0, 0, 0, 0, 0, 1]\n",
      "\n",
      "S: [[0, 0, 0, 0, 0, 0, 0, 0, 0, 0, 0, 0, 0, 0, 0, 0, 0, 0, 0, 0, 0, 0, 0, 0, 0, 0]]\n",
      "bad_nc is[]\n",
      "\n",
      "bad_pc is[]\n",
      "\n",
      "\n",
      "\n",
      "\n",
      "\n",
      "Iteration 5\n",
      "\n",
      "hypothesis is {~(v6 & v8), ~(v20 & v23), ~(v10 & v11), ~(v18 & v23), ~(v12 & v5), ~(v5 & v7), ~(v15 & v22), ~(v14 & v16), ~(v11 & v6), ~(v19 & v22), ~(v15 & v20), ~(v13 & v9), ~(v0 & v1), ~(v19 & v20), ~(v10 & v9), ~(v14 & v17), v25, ~(v16 & v19), ~(v11 & v7), ~(v24 & v25), ~(v15 & v23), ~(v10 & v12), ~(v6 & v9), ~(v0 & v2), ~(v8 & v9), ~(v2 & v3), ~(v13 & v8), ~(v10 & v8), ~(v14 & v15), ~(v16 & v17), ~(v20 & v21), ~(v1 & v4), ~(v15 & v16), ~(v14 & v18), ~(v0 & v4), ~(v0 & v3), ~(v13 & v7), ~(v15 & v17), ~(v10 & v13), ~(v12 & v9), ~(v13 & v6), ~(v14 & v23), ~(v16 & v23), ~(v16 & v18), ~(v5 & v8), ~(v3 & v4), ~(v21 & v22), ~(v7 & v9), ~(v19 & v23), ~(v11 & v8), ~(v20 & v22), ~(v15 & v18), v2, ~(v17 & v23), ~(v14 & v21), ~(v13 & v5), ~(v10 & v5), ~(v1 & v2), ~(v6 & v7), ~(v21 & v23), ~(v22 & v23), ~(v18 & v21), ~(v14 & v19), ~(v5 & v6), ~(v7 & v8), ~(v17 & v21), ~(v16 & v21), ~(v12 & v8), ~(v11 & v9), ~(v18 & v19), ~(v12 & v6), ~(v2 & v4), ~(v17 & v19), ~(v11 & v12), ~(v10 & v6), ~(v1 & v3), ~(v15 & v21), ~(v5 & v9), ~(v19 & v21), ~(v14 & v22), ~(v12 & v13), ~(v12 & v7), ~(v14 & v20), ~(v16 & v20), ~(v10 & v7), ~(v11 & v5), ~(v15 & v19), ~(v18 & v22), ~(v18 & v20), ~(v17 & v20), ~(v17 & v18), ~(v17 & v22), ~(v11 & v13), ~(v16 & v22)}.\n",
      "\n",
      "counterexample: [0, 0, 1, 0, 0, 1, 0, 0, 0, 0, 0, 0, 0, 0, 0, 1, 0, 0, 0, 0, 0, 0, 0, 0, 1, 0]\n",
      "\n",
      "S: [[0, 0, 0, 0, 0, 0, 0, 0, 0, 0, 0, 0, 0, 0, 0, 0, 0, 0, 0, 0, 0, 0, 0, 0, 0, 0]]\n",
      "bad_nc is[]\n",
      "\n",
      "bad_pc is[]\n",
      "\n",
      "\n",
      "\n",
      "\n",
      "\n",
      "Iteration 4\n",
      "\n",
      "hypothesis is {~(v6 & v8), ~(v20 & v23), ~(v10 & v11), ~(v18 & v23), ~(v12 & v5), ~(v5 & v7), ~(v15 & v22), ~(v14 & v16), ~(v11 & v6), ~(v19 & v22), ~(v15 & v20), ~(v13 & v9), ~(v0 & v1), ~(v19 & v20), ~(v10 & v9), ~(v14 & v17), ~(v16 & v19), ~(v11 & v7), ~(v24 & v25), ~(v15 & v23), ~(v10 & v12), ~(v6 & v9), ~(v0 & v2), ~(v8 & v9), ~(v2 & v3), ~(v13 & v8), ~(v10 & v8), ~(v14 & v15), ~(v16 & v17), ~(v20 & v21), ~(v1 & v4), ~(v15 & v16), ~(v14 & v18), ~(v0 & v4), ~(v0 & v3), ~(v13 & v7), ~(v15 & v17), ~(v10 & v13), ~(v12 & v9), ~(v13 & v6), ~(v14 & v23), ~(v16 & v23), ~(v16 & v18), ~(v5 & v8), ~(v3 & v4), ~(v21 & v22), ~(v7 & v9), ~(v19 & v23), ~(v11 & v8), ~(v20 & v22), ~(v15 & v18), v2, ~(v17 & v23), ~(v14 & v21), ~(v13 & v5), ~(v10 & v5), ~(v1 & v2), ~(v6 & v7), ~(v21 & v23), ~(v22 & v23), ~(v18 & v21), ~(v14 & v19), ~(v5 & v6), ~(v7 & v8), ~(v17 & v21), ~(v16 & v21), ~(v12 & v8), ~(v11 & v9), ~(v18 & v19), ~(v12 & v6), ~(v2 & v4), ~(v17 & v19), ~(v11 & v12), ~(v10 & v6), ~(v1 & v3), ~(v15 & v21), ~(v5 & v9), ~(v19 & v21), ~(v14 & v22), ~(v12 & v13), ~(v12 & v7), ~(v14 & v20), ~(v16 & v20), ~(v10 & v7), ~(v11 & v5), ~(v15 & v19), ~(v18 & v22), ~(v18 & v20), ~(v17 & v20), ~(v17 & v18), ~(v17 & v22), ~(v11 & v13), ~(v16 & v22)}.\n",
      "\n",
      "counterexample: [0, 1, 0, 0, 0, 0, 0, 0, 0, 1, 0, 0, 0, 0, 0, 0, 0, 0, 0, 0, 1, 0, 0, 0, 0, 1]\n",
      "\n",
      "S: [[0, 0, 0, 0, 0, 0, 0, 0, 0, 0, 0, 0, 0, 0, 0, 0, 0, 0, 0, 0, 0, 0, 0, 0, 0, 0]]\n",
      "bad_nc is[]\n",
      "\n",
      "bad_pc is[]\n",
      "\n",
      "\n",
      "\n",
      "\n",
      "\n",
      "Iteration 3\n",
      "\n",
      "hypothesis is {~(v6 & v8), ~(v20 & v23), ~(v10 & v11), ~(v18 & v23), ~(v12 & v5), ~(v5 & v7), ~(v15 & v22), ~(v14 & v16), ~(v11 & v6), ~(v19 & v22), ~(v15 & v20), ~(v13 & v9), ~(v0 & v1), ~(v19 & v20), ~(v10 & v9), ~(v14 & v17), ~(v16 & v19), ~(v11 & v7), ~(v24 & v25), ~(v15 & v23), ~(v10 & v12), ~(v6 & v9), ~(v0 & v2), ~(v8 & v9), ~(v2 & v3), ~(v13 & v8), ~(v10 & v8), ~(v14 & v15), ~(v16 & v17), ~(v20 & v21), ~(v1 & v4), ~(v15 & v16), ~(v14 & v18), ~(v0 & v4), ~(v0 & v3), ~(v13 & v7), ~(v15 & v17), ~(v10 & v13), ~(v12 & v9), ~(v13 & v6), ~(v14 & v23), ~(v16 & v23), ~(v16 & v18), ~(v5 & v8), ~(v3 & v4), ~(v21 & v22), ~(v7 & v9), ~(v19 & v23), ~(v11 & v8), ~(v20 & v22), ~(v15 & v18), ~(v17 & v23), ~(v14 & v21), ~(v13 & v5), ~(v10 & v5), ~(v1 & v2), ~(v6 & v7), ~(v21 & v23), ~(v22 & v23), ~(v18 & v21), ~(v14 & v19), ~(v5 & v6), ~(v7 & v8), ~(v17 & v21), ~(v16 & v21), ~(v12 & v8), ~(v11 & v9), ~(v18 & v19), ~(v12 & v6), ~(v2 & v4), ~(v17 & v19), ~(v11 & v12), ~(v10 & v6), ~(v1 & v3), ~(v15 & v21), ~(v5 & v9), ~(v19 & v21), ~(v14 & v22), ~(v12 & v13), ~(v12 & v7), ~(v14 & v20), ~(v16 & v20), ~(v10 & v7), ~(v11 & v5), ~(v15 & v19), ~(v18 & v22), ~(v18 & v20), ~(v17 & v20), ~(v17 & v18), ~(v17 & v22), ~(v11 & v13), ~(v16 & v22)}.\n",
      "\n",
      "counterexample: [0, 0, 0, 0, 0, 0, 0, 0, 0, 0, 0, 1, 0, 0, 0, 0, 0, 0, 0, 0, 0, 0, 1, 0, 1, 0]\n",
      "\n",
      "S: [[0, 0, 0, 0, 0, 0, 0, 0, 0, 0, 0, 0, 0, 0, 0, 0, 0, 0, 0, 0, 0, 0, 0, 0, 0, 0]]\n",
      "bad_nc is[[0, 0, 0, 0, 0, 0, 0, 0, 0, 0, 0, 0, 0, 0, 0, 0, 0, 0, 0, 0, 0, 0, 0, 0, 0, 0]]\n",
      "\n",
      "bad_pc is[]\n",
      "\n",
      "\n",
      "\n",
      "\n",
      "\n",
      "Iteration 2\n",
      "\n",
      "hypothesis is {~(v6 & v8), ~(v20 & v23), ~(v10 & v11), ~(v18 & v23), ~(v12 & v5), ~(v5 & v7), ~(v15 & v22), ~(v14 & v16), ~(v11 & v6), ~(v19 & v22), ~(v15 & v20), ~(v13 & v9), ~(v0 & v1), ~(v19 & v20), ~(v10 & v9), ~(v14 & v17), ~(v16 & v19), ~(v11 & v7), ~(v24 & v25), ~(v15 & v23), ~(v10 & v12), ~(v6 & v9), ~(v0 & v2), ~(v8 & v9), Implies(v11 & v22 & v24, v15), ~(v2 & v3), ~(v13 & v8), Implies(v11 & v22 & v24, v21), ~(v10 & v8), Implies(v11 & v22 & v24, v19), ~(v11 & v22 & v24), ~(v14 & v15), ~(v16 & v17), ~(v20 & v21), ~(v1 & v4), ~(v15 & v16), ~(v14 & v18), Implies(v11 & v22 & v24, v3), ~(v0 & v4), ~(v0 & v3), ~(v13 & v7), ~(v15 & v17), ~(v10 & v13), Implies(v11 & v22 & v24, v7), ~(v12 & v9), ~(v13 & v6), Implies(v11 & v22 & v24, v18), ~(v14 & v23), ~(v16 & v23), ~(v16 & v18), ~(v5 & v8), ~(v3 & v4), ~(v21 & v22), ~(v7 & v9), Implies(v11 & v22 & v24, v10), ~(v19 & v23), Implies(v11 & v22 & v24, v5), ~(v17 & v22), ~(v11 & v8), ~(v20 & v22), ~(v15 & v18), ~(v17 & v23), Implies(v11 & v22 & v24, v13), ~(v14 & v21), ~(v13 & v5), Implies(v11 & v22 & v24, v0), ~(v10 & v5), ~(v1 & v2), Implies(v11 & v22 & v24, v8), ~(v6 & v7), ~(v21 & v23), Implies(v11 & v22 & v24, v17), ~(v22 & v23), ~(v18 & v21), Implies(v11 & v22 & v24, v14), ~(v14 & v19), ~(v7 & v8), ~(v5 & v6), ~(v17 & v21), ~(v16 & v21), ~(v12 & v8), Implies(v11 & v22 & v24, v2), ~(v11 & v9), ~(v18 & v19), ~(v16 & v22), ~(v12 & v6), ~(v2 & v4), Implies(v11 & v22 & v24, v1), ~(v17 & v19), ~(v11 & v12), ~(v10 & v6), ~(v1 & v3), ~(v5 & v9), ~(v15 & v21), ~(v19 & v21), Implies(v11 & v22 & v24, v23), ~(v14 & v22), ~(v12 & v13), ~(v12 & v7), Implies(v11 & v22 & v24, v6), ~(v14 & v20), ~(v16 & v20), ~(v10 & v7), Implies(v11 & v22 & v24, v4), Implies(v11 & v22 & v24, v20), ~(v11 & v5), ~(v15 & v19), ~(v18 & v22), Implies(v11 & v22 & v24, v9), ~(v18 & v20), Implies(v11 & v22 & v24, v16), ~(v17 & v20), ~(v17 & v18), Implies(v11 & v22 & v24, v25), ~(v11 & v13), Implies(v11 & v22 & v24, v12)}.\n",
      "\n",
      "counterexample: [0, 0, 0, 1, 0, 0, 0, 0, 0, 0, 1, 0, 0, 0, 0, 0, 0, 0, 0, 0, 0, 0, 0, 1, 1, 0]\n",
      "\n",
      "S: [[0, 0, 0, 0, 0, 0, 0, 0, 0, 0, 0, 0, 0, 0, 0, 0, 0, 0, 0, 0, 0, 0, 0, 0, 0, 0], [0, 0, 0, 0, 0, 0, 0, 0, 0, 0, 0, 1, 0, 0, 0, 0, 0, 0, 0, 0, 0, 0, 1, 0, 1, 0]]\n",
      "bad_nc is[[0, 0, 0, 0, 0, 0, 0, 0, 0, 0, 0, 0, 0, 0, 0, 0, 0, 0, 0, 0, 0, 0, 0, 0, 0, 0]]\n",
      "\n",
      "bad_pc is[]\n",
      "\n",
      "\n",
      "\n",
      "\n",
      "\n",
      "Iteration 1\n",
      "\n",
      "hypothesis is {~(v6 & v8), ~(v20 & v23), ~(v10 & v11), ~(v18 & v23), ~(v12 & v5), ~(v5 & v7), ~(v15 & v22), ~(v14 & v16), ~(v11 & v6), ~(v19 & v22), ~(v15 & v20), ~(v13 & v9), ~(v19 & v20), ~(v10 & v9), ~(v0 & v1), ~(v14 & v17), ~(v16 & v19), ~(v11 & v7), ~(v24 & v25), ~(v15 & v23), ~(v10 & v12), ~(v6 & v9), ~(v0 & v2), Implies(v24, v5), ~(v8 & v9), ~(v2 & v3), ~(v13 & v8), ~(v10 & v8), ~(v14 & v15), ~(v16 & v17), ~(v20 & v21), ~(v1 & v4), ~(v15 & v16), ~(v14 & v18), ~(v0 & v4), ~(v0 & v3), ~(v13 & v7), ~(v15 & v17), ~(v10 & v13), Implies(v24, v15), Implies(v24, v2), ~(v12 & v9), ~(v13 & v6), ~(v14 & v23), ~(v16 & v23), ~(v16 & v18), ~(v5 & v8), ~(v3 & v4), ~(v21 & v22), ~(v7 & v9), ~(v19 & v23), ~(v11 & v8), ~(v20 & v22), ~(v15 & v18), ~(v17 & v23), ~(v14 & v21), ~(v13 & v5), ~(v10 & v5), ~(v1 & v2), ~(v6 & v7), ~(v21 & v23), ~(v22 & v23), ~(v14 & v19), ~(v18 & v21), ~(v7 & v8), ~(v5 & v6), ~(v17 & v21), ~(v16 & v21), ~(v12 & v8), ~(v11 & v9), ~(v18 & v19), ~(v12 & v6), ~(v2 & v4), ~(v17 & v19), ~(v11 & v12), ~(v10 & v6), ~(v1 & v3), ~(v5 & v9), ~(v15 & v21), ~(v19 & v21), ~(v14 & v22), ~(v12 & v13), ~(v12 & v7), ~(v14 & v20), ~(v16 & v20), ~(v10 & v7), ~(v11 & v5), ~(v15 & v19), ~(v18 & v22), ~(v18 & v20), ~(v17 & v18), ~(v17 & v20), ~(v17 & v22), ~(v11 & v13), ~(v16 & v22)}.\n",
      "\n",
      "counterexample: [0, 1, 0, 0, 0, 0, 0, 0, 0, 0, 0, 0, 0, 0, 0, 1, 0, 0, 0, 0, 0, 0, 0, 0, 1, 0]\n",
      "\n",
      "S: [[0, 0, 0, 0, 0, 0, 0, 0, 0, 0, 0, 0, 0, 0, 0, 0, 0, 0, 0, 0, 0, 0, 0, 0, 0, 0], [0, 0, 0, 0, 0, 0, 0, 0, 0, 0, 0, 0, 0, 0, 0, 0, 0, 0, 0, 0, 0, 0, 0, 0, 1, 0]]\n",
      "bad_nc is[[0, 0, 0, 0, 0, 0, 0, 0, 0, 0, 0, 0, 0, 0, 0, 0, 0, 0, 0, 0, 0, 0, 0, 0, 0, 0]]\n",
      "\n",
      "bad_pc is[]\n",
      "\n",
      "\n",
      "\n",
      "\n",
      "\n",
      "1473.7341541999995 147.37341541999996\n"
     ]
    }
   ],
   "source": [
    "(h,runtime,runtime_per_iteration) = extract_horn_with_queries_1(language_model, V, 10, binarizer, background, verbose=2)\n",
    "print(runtime,runtime_per_iteration)\n",
    "with open(language_model + '_rules.txt', 'wb') as f:\n",
    "    pickle.dump(h, f)"
   ]
  },
  {
   "cell_type": "code",
   "execution_count": null,
   "metadata": {},
   "outputs": [],
   "source": []
  }
 ],
 "metadata": {
  "kernelspec": {
   "display_name": "Python 3.10.4 ('MT')",
   "language": "python",
   "name": "python3"
  },
  "language_info": {
   "codemirror_mode": {
    "name": "ipython",
    "version": 3
   },
   "file_extension": ".py",
   "mimetype": "text/x-python",
   "name": "python",
   "nbconvert_exporter": "python",
   "pygments_lexer": "ipython3",
   "version": "3.10.4"
  },
  "orig_nbformat": 4,
  "vscode": {
   "interpreter": {
    "hash": "bc686a98443b4652797a5cea7523f1dba0859ec3ace4f9579863ae6780390e66"
   }
  }
 },
 "nbformat": 4,
 "nbformat_minor": 2
}
