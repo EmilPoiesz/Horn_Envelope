{
 "cells": [
  {
   "cell_type": "code",
   "execution_count": 1,
   "metadata": {},
   "outputs": [],
   "source": [
    "import pickle\n",
    "from sympy import *\n",
    "from binarize_features import *\n",
    "\n",
    "language_model = 'bert-large-cased'\n",
    "country_file = 'data/country_list_continents.csv'\n",
    "occ_file = 'data/occupations_subset.csv'\n",
    "binarizer = Binarizer(country_file, 5, occ_file)"
   ]
  },
  {
   "cell_type": "markdown",
   "metadata": {},
   "source": [
    "### Loading\n",
    "\n",
    "Load the extracted rule set and the background used from the corresponding files."
   ]
  },
  {
   "cell_type": "code",
   "execution_count": 2,
   "metadata": {},
   "outputs": [],
   "source": [
    "with open('data/' + language_model + '_rules.txt', 'rb') as f:\n",
    "    h = pickle.load(f)\n",
    "with open('data/background.txt', 'rb') as f:\n",
    "    background = pickle.load(f)"
   ]
  },
  {
   "cell_type": "code",
   "execution_count": 3,
   "metadata": {},
   "outputs": [
    {
     "name": "stdout",
     "output_type": "stream",
     "text": [
      "Implies(v23 & v27 & v3 & v8, v0)\n",
      "Implies(v14 & v17 & v2 & v27, v12)\n",
      "Implies(v14 & v17 & v2 & v27, v10)\n",
      "Implies(v16 & v18 & v27 & v3, v1)\n",
      "Implies(v16 & v18 & v27 & v3, v11)\n",
      "Implies(v14 & v17 & v2 & v27, v7)\n",
      "Implies(v14 & v17 & v2 & v27, v13)\n",
      "Implies(v16 & v18 & v27 & v3, v2)\n",
      "Implies(v16 & v18 & v27 & v3, v4)\n",
      "Implies(v16 & v18 & v27 & v3, v22)\n",
      "Implies(v16 & v18 & v27 & v3, v5)\n",
      "Implies(v16 & v18 & v27 & v3, v6)\n",
      "Implies(v0, v13)\n",
      "Implies(v14 & v17 & v2 & v27, v8)\n",
      "Implies(v23 & v27 & v3 & v8, v20)\n",
      "Implies(v23 & v27 & v3 & v8, v25)\n",
      "~(v16 & v18 & v27 & v3)\n",
      "Implies(v23 & v27 & v3 & v8, v26)\n",
      "Implies(v23 & v27 & v3 & v8, v21)\n",
      "Implies(v23 & v27 & v3 & v8, v15)\n",
      "Implies(v14 & v17 & v2 & v27, v9)\n",
      "Implies(v23 & v27 & v3 & v8, v17)\n",
      "Implies(v16 & v18 & v27 & v3, v0)\n",
      "Implies(v23 & v27 & v3 & v8, v12)\n",
      "Implies(v14 & v17 & v2 & v27, v19)\n",
      "Implies(v23 & v27 & v3 & v8, v10)\n",
      "Implies(v23 & v27 & v3 & v8, v13)\n",
      "Implies(v23 & v27 & v3 & v8, v7)\n",
      "~(v23 & v27 & v3 & v8)\n",
      "Implies(v14 & v17 & v2 & v27, v24)\n",
      "Implies(v14 & v17 & v2 & v27, v16)\n",
      "Implies(v23 & v27 & v3 & v8, v14)\n",
      "Implies(v16 & v18 & v27 & v3, v23)\n",
      "Implies(v16 & v18 & v27 & v3, v20)\n",
      "Implies(v16 & v18 & v27 & v3, v25)\n",
      "Implies(v16 & v18 & v27 & v3, v26)\n",
      "Implies(v14 & v17 & v2 & v27, v1)\n",
      "Implies(v14 & v17 & v2 & v27, v11)\n",
      "Implies(v16 & v18 & v27 & v3, v21)\n",
      "Implies(v16 & v18 & v27 & v3, v15)\n",
      "~(v14 & v17 & v2 & v27)\n",
      "Implies(v23 & v27 & v3 & v8, v9)\n",
      "Implies(v14 & v17 & v2 & v27, v4)\n",
      "Implies(v14 & v17 & v2 & v27, v18)\n",
      "Implies(v14 & v17 & v2 & v27, v22)\n",
      "Implies(v16 & v18 & v27 & v3, v17)\n",
      "Implies(v14 & v17 & v2 & v27, v5)\n",
      "Implies(v14 & v17 & v2 & v27, v6)\n",
      "Implies(v16 & v18 & v27 & v3, v12)\n",
      "Implies(v23 & v27 & v3 & v8, v19)\n",
      "Implies(v16 & v18 & v27 & v3, v10)\n",
      "Implies(v16 & v18 & v27 & v3, v13)\n",
      "Implies(v16 & v18 & v27 & v3, v7)\n",
      "Implies(v0, v18)\n",
      "Implies(v23 & v27 & v3 & v8, v24)\n",
      "Implies(v23 & v27 & v3 & v8, v16)\n",
      "Implies(v16 & v18 & v27 & v3, v14)\n",
      "Implies(v16 & v18 & v27 & v3, v8)\n",
      "Implies(v14 & v17 & v2 & v27, v0)\n",
      "Implies(v14 & v17 & v2 & v27, v3)\n",
      "Implies(v23 & v27 & v3 & v8, v1)\n",
      "Implies(v23 & v27 & v3 & v8, v11)\n",
      "Implies(v16 & v18 & v27 & v3, v9)\n",
      "Implies(v23 & v27 & v3 & v8, v2)\n",
      "Implies(v23 & v27 & v3 & v8, v4)\n",
      "Implies(v23 & v27 & v3 & v8, v18)\n",
      "Implies(v23 & v27 & v3 & v8, v22)\n",
      "Implies(v23 & v27 & v3 & v8, v5)\n",
      "Implies(v23 & v27 & v3 & v8, v6)\n",
      "Implies(v16 & v18 & v27 & v3, v19)\n",
      "Implies(v14 & v17 & v2 & v27, v23)\n",
      "Implies(v14 & v17 & v2 & v27, v20)\n",
      "Implies(v16 & v18 & v27 & v3, v24)\n",
      "Implies(v14 & v17 & v2 & v27, v25)\n",
      "Implies(v14 & v17 & v2 & v27, v26)\n",
      "Implies(v14 & v17 & v2 & v27, v21)\n",
      "Implies(v14 & v17 & v2 & v27, v15)\n"
     ]
    }
   ],
   "source": [
    "gender_related = []\n",
    "all_rules = []\n",
    "for rule in h:\n",
    "    if rule not in background:\n",
    "        expr = sstr(rule)\n",
    "        all_rules.append(expr)\n",
    "        print(expr)\n",
    "        if 'v27' in expr:\n",
    "            gender_related.append(expr)"
   ]
  },
  {
   "cell_type": "code",
   "execution_count": 8,
   "metadata": {},
   "outputs": [
    {
     "name": "stdout",
     "output_type": "stream",
     "text": [
      "[{'head': '0', 'body': [23, 27, 3, 8]}, {'head': '12', 'body': [14, 17, 2, 27]}, {'head': '10', 'body': [14, 17, 2, 27]}, {'head': '1', 'body': [16, 18, 27, 3]}, {'head': '11', 'body': [16, 18, 27, 3]}, {'head': '7', 'body': [14, 17, 2, 27]}, {'head': '13', 'body': [14, 17, 2, 27]}, {'head': '2', 'body': [16, 18, 27, 3]}, {'head': '4', 'body': [16, 18, 27, 3]}, {'head': '22', 'body': [16, 18, 27, 3]}, {'head': '5', 'body': [16, 18, 27, 3]}, {'head': '6', 'body': [16, 18, 27, 3]}, {'head': '13', 'body': [0]}, {'head': '8', 'body': [14, 17, 2, 27]}, {'head': '20', 'body': [23, 27, 3, 8]}, {'head': '25', 'body': [23, 27, 3, 8]}, {'head': '', 'body': [16, 18, 27, 3]}, {'head': '26', 'body': [23, 27, 3, 8]}, {'head': '21', 'body': [23, 27, 3, 8]}, {'head': '15', 'body': [23, 27, 3, 8]}, {'head': '9', 'body': [14, 17, 2, 27]}, {'head': '17', 'body': [23, 27, 3, 8]}, {'head': '0', 'body': [16, 18, 27, 3]}, {'head': '12', 'body': [23, 27, 3, 8]}, {'head': '19', 'body': [14, 17, 2, 27]}, {'head': '10', 'body': [23, 27, 3, 8]}, {'head': '13', 'body': [23, 27, 3, 8]}, {'head': '7', 'body': [23, 27, 3, 8]}, {'head': '', 'body': [23, 27, 3, 8]}, {'head': '24', 'body': [14, 17, 2, 27]}, {'head': '16', 'body': [14, 17, 2, 27]}, {'head': '14', 'body': [23, 27, 3, 8]}, {'head': '23', 'body': [16, 18, 27, 3]}, {'head': '20', 'body': [16, 18, 27, 3]}, {'head': '25', 'body': [16, 18, 27, 3]}, {'head': '26', 'body': [16, 18, 27, 3]}, {'head': '1', 'body': [14, 17, 2, 27]}, {'head': '11', 'body': [14, 17, 2, 27]}, {'head': '21', 'body': [16, 18, 27, 3]}, {'head': '15', 'body': [16, 18, 27, 3]}, {'head': '', 'body': [14, 17, 2, 27]}, {'head': '9', 'body': [23, 27, 3, 8]}, {'head': '4', 'body': [14, 17, 2, 27]}, {'head': '18', 'body': [14, 17, 2, 27]}, {'head': '22', 'body': [14, 17, 2, 27]}, {'head': '17', 'body': [16, 18, 27, 3]}, {'head': '5', 'body': [14, 17, 2, 27]}, {'head': '6', 'body': [14, 17, 2, 27]}, {'head': '12', 'body': [16, 18, 27, 3]}, {'head': '19', 'body': [23, 27, 3, 8]}, {'head': '10', 'body': [16, 18, 27, 3]}, {'head': '13', 'body': [16, 18, 27, 3]}, {'head': '7', 'body': [16, 18, 27, 3]}, {'head': '18', 'body': [0]}, {'head': '24', 'body': [23, 27, 3, 8]}, {'head': '16', 'body': [23, 27, 3, 8]}, {'head': '14', 'body': [16, 18, 27, 3]}, {'head': '8', 'body': [16, 18, 27, 3]}, {'head': '0', 'body': [14, 17, 2, 27]}, {'head': '3', 'body': [14, 17, 2, 27]}, {'head': '1', 'body': [23, 27, 3, 8]}, {'head': '11', 'body': [23, 27, 3, 8]}, {'head': '9', 'body': [16, 18, 27, 3]}, {'head': '2', 'body': [23, 27, 3, 8]}, {'head': '4', 'body': [23, 27, 3, 8]}, {'head': '18', 'body': [23, 27, 3, 8]}, {'head': '22', 'body': [23, 27, 3, 8]}, {'head': '5', 'body': [23, 27, 3, 8]}, {'head': '6', 'body': [23, 27, 3, 8]}, {'head': '19', 'body': [16, 18, 27, 3]}, {'head': '23', 'body': [14, 17, 2, 27]}, {'head': '20', 'body': [14, 17, 2, 27]}, {'head': '24', 'body': [16, 18, 27, 3]}, {'head': '25', 'body': [14, 17, 2, 27]}, {'head': '26', 'body': [14, 17, 2, 27]}, {'head': '21', 'body': [14, 17, 2, 27]}, {'head': '15', 'body': [14, 17, 2, 27]}]\n"
     ]
    }
   ],
   "source": [
    "rules = []\n",
    "for rule in all_rules:\n",
    "    if '~' in rule:\n",
    "        idx = []\n",
    "        if not '(' in rule:\n",
    "            idx.append(int(rule.replace('~v', '')))\n",
    "        else:\n",
    "            for s in rule.split(' '):\n",
    "                if 'v' in s:\n",
    "                    s = s.replace('~(', '')\n",
    "                    s = s.replace(')', '')\n",
    "                    idx.append(int(s.replace('v', '')))\n",
    "            rules.append({'head' : '','body' : idx})\n",
    "    else:\n",
    "        body, head = rule.split(', ')\n",
    "        body_idx = []\n",
    "        for s in body.split(' '):\n",
    "            if 'v' in s:\n",
    "                s = s.replace('Implies(', '')\n",
    "                body_idx.append(int(s.replace('v', '')))\n",
    "        head_idx = head.replace('v', '').replace(')','')\n",
    "        rules.append({'head' : head_idx, 'body' : body_idx})\n",
    "print(rules)"
   ]
  },
  {
   "cell_type": "code",
   "execution_count": 9,
   "metadata": {},
   "outputs": [
    {
     "name": "stdout",
     "output_type": "stream",
     "text": [
      "{0: 'before 1892', 1: 'between 1892 and 1934', 2: 'between 1934 and 1956', 3: 'between 1956 and 1976', 4: 'after 1976', 5: 'North America', 6: 'Africa', 7: 'Europe', 8: 'Asia', 9: 'South America', 10: 'Insular Oceania', 11: 'Eurasia', 12: 'Central America', 13: '?', 14: 'Oceania', 15: 'Australia', 16: 'Americas', 17: 'fashion_designer', 18: 'nurse', 19: 'dancer', 20: 'priest', 21: 'footballer', 22: 'banker', 23: 'singer', 24: 'lawyer', 25: 'mathematician', 26: 'diplomat', 27: 'male'}\n"
     ]
    }
   ],
   "source": [
    "total_lookup = []\n",
    "for index in range(len(binarizer.age_containers) + 1):\n",
    "    if index == 0:\n",
    "        total_lookup.append(\"before \" + str(binarizer.age_containers[index]))\n",
    "    elif index == len(binarizer.age_containers):\n",
    "        total_lookup.append(\"after \" + str(binarizer.age_containers[index-1]))\n",
    "    else:\n",
    "        total_lookup.append(\"between \" + str(binarizer.age_containers[index-1]) + \" and \" + str(binarizer.age_containers[index]))\n",
    "for v in binarizer.continent_lookup.keys():\n",
    "    total_lookup.append(v)\n",
    "for v in binarizer.occupation_lookup.keys():\n",
    "    total_lookup.append(v)\n",
    "total_lookup.append('male')\n",
    "print({i : total_lookup[i] for i in range(len(total_lookup))})"
   ]
  },
  {
   "cell_type": "code",
   "execution_count": 10,
   "metadata": {},
   "outputs": [],
   "source": [
    "string_rules = []\n",
    "for rule in rules:\n",
    "    s = \"\"\n",
    "    for variable in rule['body']:\n",
    "        s = s + total_lookup[variable] + \" & \"\n",
    "    s = s[:-2]\n",
    "    if rule['head'] != '':\n",
    "        s = s + \" ---> \" + total_lookup[int(rule['head'])]\n",
    "    #if 'fashion_designer' not in s:\n",
    "    string_rules.append(s)"
   ]
  },
  {
   "cell_type": "code",
   "execution_count": 11,
   "metadata": {},
   "outputs": [
    {
     "name": "stdout",
     "output_type": "stream",
     "text": [
      "Americas & nurse & male & between 1956 and 1976 \n",
      "Americas & nurse & male & between 1956 and 1976  ---> ?\n",
      "Americas & nurse & male & between 1956 and 1976  ---> Africa\n",
      "Americas & nurse & male & between 1956 and 1976  ---> Asia\n",
      "Americas & nurse & male & between 1956 and 1976  ---> Australia\n",
      "Americas & nurse & male & between 1956 and 1976  ---> Central America\n",
      "Americas & nurse & male & between 1956 and 1976  ---> Eurasia\n",
      "Americas & nurse & male & between 1956 and 1976  ---> Europe\n",
      "Americas & nurse & male & between 1956 and 1976  ---> Insular Oceania\n",
      "Americas & nurse & male & between 1956 and 1976  ---> North America\n",
      "Americas & nurse & male & between 1956 and 1976  ---> Oceania\n",
      "Americas & nurse & male & between 1956 and 1976  ---> South America\n",
      "Americas & nurse & male & between 1956 and 1976  ---> after 1976\n",
      "Americas & nurse & male & between 1956 and 1976  ---> banker\n",
      "Americas & nurse & male & between 1956 and 1976  ---> before 1892\n",
      "Americas & nurse & male & between 1956 and 1976  ---> between 1892 and 1934\n",
      "Americas & nurse & male & between 1956 and 1976  ---> between 1934 and 1956\n",
      "Americas & nurse & male & between 1956 and 1976  ---> dancer\n",
      "Americas & nurse & male & between 1956 and 1976  ---> diplomat\n",
      "Americas & nurse & male & between 1956 and 1976  ---> fashion_designer\n",
      "Americas & nurse & male & between 1956 and 1976  ---> footballer\n",
      "Americas & nurse & male & between 1956 and 1976  ---> lawyer\n",
      "Americas & nurse & male & between 1956 and 1976  ---> mathematician\n",
      "Americas & nurse & male & between 1956 and 1976  ---> priest\n",
      "Americas & nurse & male & between 1956 and 1976  ---> singer\n",
      "Oceania & fashion_designer & between 1934 and 1956 & male \n",
      "Oceania & fashion_designer & between 1934 and 1956 & male  ---> ?\n",
      "Oceania & fashion_designer & between 1934 and 1956 & male  ---> Africa\n",
      "Oceania & fashion_designer & between 1934 and 1956 & male  ---> Americas\n",
      "Oceania & fashion_designer & between 1934 and 1956 & male  ---> Asia\n",
      "Oceania & fashion_designer & between 1934 and 1956 & male  ---> Australia\n",
      "Oceania & fashion_designer & between 1934 and 1956 & male  ---> Central America\n",
      "Oceania & fashion_designer & between 1934 and 1956 & male  ---> Eurasia\n",
      "Oceania & fashion_designer & between 1934 and 1956 & male  ---> Europe\n",
      "Oceania & fashion_designer & between 1934 and 1956 & male  ---> Insular Oceania\n",
      "Oceania & fashion_designer & between 1934 and 1956 & male  ---> North America\n",
      "Oceania & fashion_designer & between 1934 and 1956 & male  ---> South America\n",
      "Oceania & fashion_designer & between 1934 and 1956 & male  ---> after 1976\n",
      "Oceania & fashion_designer & between 1934 and 1956 & male  ---> banker\n",
      "Oceania & fashion_designer & between 1934 and 1956 & male  ---> before 1892\n",
      "Oceania & fashion_designer & between 1934 and 1956 & male  ---> between 1892 and 1934\n",
      "Oceania & fashion_designer & between 1934 and 1956 & male  ---> between 1956 and 1976\n",
      "Oceania & fashion_designer & between 1934 and 1956 & male  ---> dancer\n",
      "Oceania & fashion_designer & between 1934 and 1956 & male  ---> diplomat\n",
      "Oceania & fashion_designer & between 1934 and 1956 & male  ---> footballer\n",
      "Oceania & fashion_designer & between 1934 and 1956 & male  ---> lawyer\n",
      "Oceania & fashion_designer & between 1934 and 1956 & male  ---> mathematician\n",
      "Oceania & fashion_designer & between 1934 and 1956 & male  ---> nurse\n",
      "Oceania & fashion_designer & between 1934 and 1956 & male  ---> priest\n",
      "Oceania & fashion_designer & between 1934 and 1956 & male  ---> singer\n",
      "before 1892  ---> ?\n",
      "before 1892  ---> nurse\n",
      "singer & male & between 1956 and 1976 & Asia \n",
      "singer & male & between 1956 and 1976 & Asia  ---> ?\n",
      "singer & male & between 1956 and 1976 & Asia  ---> Africa\n",
      "singer & male & between 1956 and 1976 & Asia  ---> Americas\n",
      "singer & male & between 1956 and 1976 & Asia  ---> Australia\n",
      "singer & male & between 1956 and 1976 & Asia  ---> Central America\n",
      "singer & male & between 1956 and 1976 & Asia  ---> Eurasia\n",
      "singer & male & between 1956 and 1976 & Asia  ---> Europe\n",
      "singer & male & between 1956 and 1976 & Asia  ---> Insular Oceania\n",
      "singer & male & between 1956 and 1976 & Asia  ---> North America\n",
      "singer & male & between 1956 and 1976 & Asia  ---> Oceania\n",
      "singer & male & between 1956 and 1976 & Asia  ---> South America\n",
      "singer & male & between 1956 and 1976 & Asia  ---> after 1976\n",
      "singer & male & between 1956 and 1976 & Asia  ---> banker\n",
      "singer & male & between 1956 and 1976 & Asia  ---> before 1892\n",
      "singer & male & between 1956 and 1976 & Asia  ---> between 1892 and 1934\n",
      "singer & male & between 1956 and 1976 & Asia  ---> between 1934 and 1956\n",
      "singer & male & between 1956 and 1976 & Asia  ---> dancer\n",
      "singer & male & between 1956 and 1976 & Asia  ---> diplomat\n",
      "singer & male & between 1956 and 1976 & Asia  ---> fashion_designer\n",
      "singer & male & between 1956 and 1976 & Asia  ---> footballer\n",
      "singer & male & between 1956 and 1976 & Asia  ---> lawyer\n",
      "singer & male & between 1956 and 1976 & Asia  ---> mathematician\n",
      "singer & male & between 1956 and 1976 & Asia  ---> nurse\n",
      "singer & male & between 1956 and 1976 & Asia  ---> priest\n"
     ]
    }
   ],
   "source": [
    "string_rules.sort()\n",
    "for s in string_rules:\n",
    "    print(s)"
   ]
  }
 ],
 "metadata": {
  "kernelspec": {
   "display_name": "Python 3.10.4 ('MT')",
   "language": "python",
   "name": "python3"
  },
  "language_info": {
   "codemirror_mode": {
    "name": "ipython",
    "version": 3
   },
   "file_extension": ".py",
   "mimetype": "text/x-python",
   "name": "python",
   "nbconvert_exporter": "python",
   "pygments_lexer": "ipython3",
   "version": "3.10.4"
  },
  "orig_nbformat": 4,
  "vscode": {
   "interpreter": {
    "hash": "bc686a98443b4652797a5cea7523f1dba0859ec3ace4f9579863ae6780390e66"
   }
  }
 },
 "nbformat": 4,
 "nbformat_minor": 2
}
