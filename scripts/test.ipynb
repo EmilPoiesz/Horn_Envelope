{
 "cells": [
  {
   "cell_type": "code",
   "execution_count": 1,
   "metadata": {},
   "outputs": [
    {
     "name": "stdout",
     "output_type": "stream",
     "text": [
      "/Users/emil/Documents/PhD/Horn_Envelope/Horn_Envelope/.venv/bin/pip: line 2: /Users/emil/Documents/PhD projects/Horn_Envelope/Horn_Envelope/.venv/bin/python: No such file or directory\n",
      "/Users/emil/Documents/PhD/Horn_Envelope/Horn_Envelope/.venv/bin/pip: line 2: exec: /Users/emil/Documents/PhD projects/Horn_Envelope/Horn_Envelope/.venv/bin/python: cannot execute: No such file or directory\n"
     ]
    }
   ],
   "source": [
    "!pip install transformers"
   ]
  },
  {
   "cell_type": "code",
   "execution_count": null,
   "metadata": {},
   "outputs": [],
   "source": [
    "from transformers import pipeline\n",
    "import pandas as pd\n",
    "import numpy as np\n",
    "from helper_functions import *\n",
    "\n",
    "models = ['roberta-base', 'roberta-large', 'bert-base-cased', 'bert-large-cased']\n",
    "occ_list = import_occupations('../data/occupations.csv')\n",
    "\n",
    "for model in models:\n",
    "    print('===== ' + model + ' =====')\n",
    "    unmasker = pipeline('fill-mask', model=model)\n",
    "    for occupation in occ_list:\n",
    "        name = occupation[0]\n",
    "        data = pd.read_csv('data/dataset_refac/' + name + '.csv', header=None, names=['sentence', 'label'])\n",
    "        data['he'] = 0.0\n",
    "        data['she'] = 0.0\n",
    "        data['they'] = 0.0\n",
    "        data_format = data.copy()\n",
    "        data_format['prediction1'] = ''\n",
    "        data_format['score1'] = 0.0\n",
    "        data_format['prediction2'] = ''\n",
    "        data_format['score2'] = 0.0\n",
    "        for index, row in data.iterrows():\n",
    "            result = lm_inference(unmasker, row['sentence'], model)\n",
    "            for r in result:\n",
    "                if r['token_str'] == 'She':\n",
    "                    data.at[index, 'she'] = r['score']\n",
    "                    data_format.at[index, 'she'] = r['score']\n",
    "                elif r['token_str'] == 'He':\n",
    "                    data.at[index, 'he'] = r['score']\n",
    "                    data_format.at[index, 'he'] = r['score']\n",
    "                elif r['token_str'] == 'They':\n",
    "                    data.at[index, 'they'] = r['score']\n",
    "                    data_format.at[index, 'they'] = r['score']\n",
    "            data_format.at[index, 'prediction1'] = result[0]['token_str']\n",
    "            data_format.at[index, 'prediction2'] = result[1]['token_str']\n",
    "            data_format.at[index, 'score1'] = result[0]['score']\n",
    "            data_format.at[index, 'score2'] = result[1]['score']\n",
    "        data.to_csv('data/probing_' + model + '/' + name + '.csv')\n",
    "        data_format.to_csv('data/probing_' + model + '/' + name + '_format.csv')\n",
    "        print('Finished with {occupation}'.format(occupation=name))\n",
    "        "
   ]
  }
 ],
 "metadata": {
  "kernelspec": {
   "display_name": ".venv",
   "language": "python",
   "name": "python3"
  },
  "language_info": {
   "codemirror_mode": {
    "name": "ipython",
    "version": 3
   },
   "file_extension": ".py",
   "mimetype": "text/x-python",
   "name": "python",
   "nbconvert_exporter": "python",
   "pygments_lexer": "ipython3",
   "version": "3.13.1"
  }
 },
 "nbformat": 4,
 "nbformat_minor": 2
}
