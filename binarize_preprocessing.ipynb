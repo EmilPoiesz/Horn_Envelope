{
 "cells": [
  {
   "cell_type": "code",
   "execution_count": 1,
   "metadata": {},
   "outputs": [],
   "source": [
    "from helper_functions import *\n",
    "import pandas as pd\n",
    "import numpy as np"
   ]
  },
  {
   "attachments": {},
   "cell_type": "markdown",
   "metadata": {},
   "source": [
    "### Make a list of all countries in the dataset"
   ]
  },
  {
   "cell_type": "code",
   "execution_count": 2,
   "metadata": {},
   "outputs": [],
   "source": [
    "occ_list = import_occupations(\"data/occupations_extracted.csv\")\n",
    "nids = []\n",
    "country_pairs = []\n",
    "for occupation in occ_list:\n",
    "        name = occupation[0]\n",
    "        df = pd.read_csv(f'data/csv_clean/{name}.csv')\n",
    "        for index, row in df.iterrows():\n",
    "            nationality = row['nationality']\n",
    "            nid = row['nationalityID']\n",
    "            if nid not in nids:\n",
    "                pair = [nid, nationality]\n",
    "                nids.append(nid)\n",
    "                country_pairs.append(pair)\n",
    "\n",
    "df = pd.DataFrame(country_pairs)\n",
    "df.to_csv('data/country_list.csv', index=False, header=False)\n"
   ]
  },
  {
   "attachments": {},
   "cell_type": "markdown",
   "metadata": {},
   "source": [
    "### Annotate all countries with their corresponding continent\n",
    "\n",
    "First, generate the list of continents associated with a country and add them all into one dataframe. Then associate those, that are not associated with a continent, with the unknown symbol '?'. Then find those, that have been added with multiple continents due to the hierarchical structure of data in wikidata and reasses by getting only their original countries continent (by adjusting their query)."
   ]
  },
  {
   "cell_type": "code",
   "execution_count": 3,
   "metadata": {},
   "outputs": [
    {
     "name": "stdout",
     "output_type": "stream",
     "text": [
      "Multiple continents associated: \n"
     ]
    }
   ],
   "source": [
    "country_list = pd.read_csv('data/country_list.csv', header=None)\n",
    "for index, row in country_list.iterrows():\n",
    "    cid = row[0]\n",
    "    if cid != '?':\n",
    "        results = get_continent(cid)\n",
    "        for i, result in enumerate(results['results']['bindings']):\n",
    "            country_list.at[index,'continent'+str(i)] = result['continent']['value']\n",
    "country_list.to_csv('data/country_list_continents.csv', index=False, header=False)\n",
    "\n",
    "country_list = pd.read_csv('data/country_list_continents.csv', header=None)\n",
    "print(\"Multiple continents associated: \")\n",
    "for index, row in country_list.iterrows():\n",
    "    if not isinstance(row[2], str):\n",
    "        country_list.at[index, 2] = '?'\n",
    "country_list.to_csv('data/country_list_continents.csv', index=False, header=False)\n",
    "country_list = pd.read_csv('data/country_list_continents.csv', header=None)\n",
    "for index, row in country_list.iterrows():\n",
    "    if isinstance(row[3], str):\n",
    "        results = get_continent(row[0], original=True)\n",
    "        if len(results['results']['bindings']) == 1 :\n",
    "            country_list.at[index, 2] = results['results']['bindings'][0]['continent']['value']\n",
    "            for i in range(3,10):\n",
    "                country_list.at[index, i] = np.nan\n",
    "country_list.to_csv('data/country_list_continents.csv', index=False, header=False)"
   ]
  },
  {
   "attachments": {},
   "cell_type": "markdown",
   "metadata": {},
   "source": [
    "Find all countries that are still associated with more than one continent and manually fix them."
   ]
  },
  {
   "cell_type": "code",
   "execution_count": 4,
   "metadata": {},
   "outputs": [
    {
     "name": "stdout",
     "output_type": "stream",
     "text": [
      "Q15180 Soviet Union\n",
      "Q804 Panama\n",
      "Q34266 Russian Empire\n",
      "Q664 New Zealand\n",
      "Q730 Suriname\n",
      "Q2002279 Portuguese Guinea\n",
      "Q702 Federated States of Micronesia\n",
      "Q139319 Russian Republic\n",
      "Q12544 Byzantine Empire\n",
      "Q12560 Ottoman Empire\n",
      "Q685 Solomon Islands\n",
      "Q23681 Northern Cyprus\n",
      "Q217196 Crown of Castile\n",
      "Q710 Kiribati\n",
      "Q695 Palau\n",
      "Q83891 Sasanian Empire\n",
      "Q160307 Fatimid Caliphate\n",
      "Q672 Tuvalu\n",
      "Q63135869 Ayyubid Sultanate\n",
      "Q282428 Mamluk Sultanate\n",
      "Q8575586 Umayyad Caliphate\n",
      "Q1275158 Elymais\n",
      "Q389688 Achaemenid Empire\n",
      "Q12490507 Rashidun Caliphate\n",
      "Q41137 Assyrian Empire\n",
      "Q180114 Ayyubid dynasty\n",
      "Q170468 United Arab Republic\n",
      "Q19083 Kingdom of Iberia\n",
      "Q80702 Spanish Empire\n",
      "Q8680 British Empire\n",
      "Q200464 Portuguese Empire\n",
      "Q210718 Asia\n",
      "Q186513 Hispania\n",
      "Q4304392 Russian State\n",
      "Q1051600 Duchy of Naples\n",
      "Q210551 Viceroyalty of the Río de la Plata\n",
      "Q10416611 Vandal Kingdom\n",
      "Q199688 Almohad Caliphate\n",
      "Q766543 Hispanic Monarchy\n"
     ]
    }
   ],
   "source": [
    "country_list = pd.read_csv('data/country_list_continents.csv', header=None)\n",
    "for index, row in country_list.iterrows():\n",
    "    if isinstance(row[3], str):\n",
    "        print(row[0], row[1])"
   ]
  },
  {
   "attachments": {},
   "cell_type": "markdown",
   "metadata": {},
   "source": [
    "The automatic preprocessing is followed by manual manipulation of the country file to make it as clean as possible and associate all countries with their continent. This yields the final ``country_list_continents.csv`` file."
   ]
  },
  {
   "attachments": {},
   "cell_type": "markdown",
   "metadata": {},
   "source": [
    "### Make containers for age range\n",
    "1. Get all the birthyears from the dataset"
   ]
  },
  {
   "cell_type": "code",
   "execution_count": 6,
   "metadata": {},
   "outputs": [],
   "source": [
    "occ_list = import_occupations(\"data/occupations_updated.csv\")\n",
    "amount_containers = 5"
   ]
  },
  {
   "attachments": {},
   "cell_type": "markdown",
   "metadata": {},
   "source": [
    "2. clean the birthyears into being numbers (swapping BC with a negative value) and make a list of all years."
   ]
  },
  {
   "cell_type": "code",
   "execution_count": 7,
   "metadata": {},
   "outputs": [],
   "source": [
    "birthyears = []\n",
    "for occupation in occ_list:\n",
    "    id = occupation[1]\n",
    "    name = occupation[0]\n",
    "    occ_file = 'data/dataframes_cleaned/' + name + '.csv'\n",
    "    df = pd.read_csv(occ_file)\n",
    "    for index,row in df.iterrows():\n",
    "        birthyear = row['birth']\n",
    "        if isinstance(birthyear, str) and 'BC' in birthyear:\n",
    "            birthyears.append(-int(birthyear.split(' ')[0]))\n",
    "        elif birthyear == '?':\n",
    "            pass\n",
    "        else:\n",
    "            birthyears.append(int(birthyear))"
   ]
  },
  {
   "attachments": {},
   "cell_type": "markdown",
   "metadata": {},
   "source": [
    "3. Sort the birthyear list."
   ]
  },
  {
   "cell_type": "code",
   "execution_count": 8,
   "metadata": {},
   "outputs": [],
   "source": [
    "birthyears.sort()"
   ]
  },
  {
   "attachments": {},
   "cell_type": "markdown",
   "metadata": {},
   "source": [
    "4. Partition the list into the given amount of containers, so that years that are represented more ofte, gain a finer grained representation."
   ]
  },
  {
   "cell_type": "code",
   "execution_count": 9,
   "metadata": {},
   "outputs": [
    {
     "name": "stdout",
     "output_type": "stream",
     "text": [
      "0 : 1875\n",
      "1 : 1925\n",
      "2 : 1951\n",
      "3 : 1970\n"
     ]
    }
   ],
   "source": [
    "amount_in_container = int((len(birthyears) / amount_containers)+1)\n",
    "containers = []\n",
    "for i in range(amount_containers - 1):\n",
    "    c_value = birthyears[(i+1)*amount_in_container]\n",
    "    print(\"{i} : {value}\".format(i=i, value=c_value))\n",
    "    containers.append(c_value)"
   ]
  },
  {
   "cell_type": "code",
   "execution_count": 17,
   "metadata": {},
   "outputs": [],
   "source": [
    "pd.DataFrame(containers).to_csv('data/age_containers' + str(amount_containers) + '.csv', header=None, index=None)"
   ]
  }
 ],
 "metadata": {
  "kernelspec": {
   "display_name": ".venv",
   "language": "python",
   "name": "python3"
  },
  "language_info": {
   "codemirror_mode": {
    "name": "ipython",
    "version": 3
   },
   "file_extension": ".py",
   "mimetype": "text/x-python",
   "name": "python",
   "nbconvert_exporter": "python",
   "pygments_lexer": "ipython3",
   "version": "3.13.0"
  },
  "orig_nbformat": 4
 },
 "nbformat": 4,
 "nbformat_minor": 2
}
